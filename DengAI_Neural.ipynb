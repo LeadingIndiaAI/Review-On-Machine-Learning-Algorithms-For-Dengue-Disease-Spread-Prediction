{
 "cells": [
  {
   "cell_type": "code",
   "execution_count": 1,
   "metadata": {},
   "outputs": [],
   "source": [
    "%matplotlib inline\n",
    "\n",
    "import numpy as np\n",
    "import pandas as pd\n",
    "import matplotlib.pyplot as plt\n",
    "\n",
    "from warnings import filterwarnings\n",
    "filterwarnings('ignore')\n"
   ]
  },
  {
   "cell_type": "code",
   "execution_count": 2,
   "metadata": {},
   "outputs": [
    {
     "name": "stderr",
     "output_type": "stream",
     "text": [
      "Using TensorFlow backend.\n"
     ]
    }
   ],
   "source": [
    "import pandas\n",
    "from keras.models import Sequential\n",
    "from keras.layers import Dense,Dropout\n",
    "from keras.wrappers.scikit_learn import KerasRegressor\n",
    "from sklearn.model_selection import cross_val_score\n",
    "from sklearn.model_selection import KFold\n",
    "from sklearn.preprocessing import StandardScaler\n",
    "from sklearn.pipeline import Pipeline"
   ]
  },
  {
   "cell_type": "code",
   "execution_count": null,
   "metadata": {},
   "outputs": [],
   "source": []
  },
  {
   "cell_type": "code",
   "execution_count": null,
   "metadata": {},
   "outputs": [],
   "source": []
  },
  {
   "cell_type": "code",
   "execution_count": 3,
   "metadata": {},
   "outputs": [],
   "source": [
    "df_train_features=pd.read_csv('dengue_features_train.csv')\n",
    "\n",
    "df_test_features=pd.read_csv('dengue_features_test.csv')\n",
    "\n",
    "df_labels_train=pd.read_csv('dengue_labels_train.csv')"
   ]
  },
  {
   "cell_type": "code",
   "execution_count": 26,
   "metadata": {},
   "outputs": [
    {
     "name": "stdout",
     "output_type": "stream",
     "text": [
      "<class 'pandas.core.frame.DataFrame'>\n",
      "RangeIndex: 1456 entries, 0 to 1455\n",
      "Data columns (total 18 columns):\n",
      "city                                     1456 non-null object\n",
      "year                                     1456 non-null int64\n",
      "weekofyear                               1456 non-null int64\n",
      "ndvi_ne                                  1456 non-null float64\n",
      "ndvi_nw                                  1456 non-null float64\n",
      "ndvi_se                                  1456 non-null float64\n",
      "ndvi_sw                                  1456 non-null float64\n",
      "reanalysis_air_temp_k                    1456 non-null float64\n",
      "reanalysis_avg_temp_k                    1456 non-null float64\n",
      "reanalysis_dew_point_temp_k              1456 non-null float64\n",
      "reanalysis_max_air_temp_k                1456 non-null float64\n",
      "reanalysis_min_air_temp_k                1456 non-null float64\n",
      "reanalysis_precip_amt_kg_per_m2          1456 non-null float64\n",
      "reanalysis_sat_precip_amt_mm             1456 non-null float64\n",
      "reanalysis_specific_humidity_g_per_kg    1456 non-null float64\n",
      "station_diur_temp_rng_c                  1456 non-null float64\n",
      "station_max_temp_c                       1456 non-null float64\n",
      "station_precip_mm                        1456 non-null float64\n",
      "dtypes: float64(15), int64(2), object(1)\n",
      "memory usage: 204.8+ KB\n"
     ]
    }
   ],
   "source": [
    "df_train_features.info()"
   ]
  },
  {
   "cell_type": "code",
   "execution_count": null,
   "metadata": {},
   "outputs": [],
   "source": []
  },
  {
   "cell_type": "code",
   "execution_count": 5,
   "metadata": {},
   "outputs": [],
   "source": [
    "dataset_test=df_test_features"
   ]
  },
  {
   "cell_type": "code",
   "execution_count": 6,
   "metadata": {},
   "outputs": [],
   "source": [
    "dataset_test.drop(columns=['week_start_date','reanalysis_relative_humidity_percent','precipitation_amt_mm','reanalysis_tdtr_k','station_min_temp_c','station_avg_temp_c'],axis=1,inplace=True)"
   ]
  },
  {
   "cell_type": "code",
   "execution_count": 7,
   "metadata": {},
   "outputs": [],
   "source": [
    "dataset_test.fillna(method='ffill',inplace=True)"
   ]
  },
  {
   "cell_type": "code",
   "execution_count": 8,
   "metadata": {},
   "outputs": [
    {
     "data": {
      "text/plain": [
       "(416, 18)"
      ]
     },
     "execution_count": 8,
     "metadata": {},
     "output_type": "execute_result"
    }
   ],
   "source": [
    "dataset_test.shape"
   ]
  },
  {
   "cell_type": "code",
   "execution_count": null,
   "metadata": {},
   "outputs": [],
   "source": []
  },
  {
   "cell_type": "code",
   "execution_count": 9,
   "metadata": {},
   "outputs": [],
   "source": [
    "test=dataset_test.iloc[:,0:18].values"
   ]
  },
  {
   "cell_type": "code",
   "execution_count": null,
   "metadata": {},
   "outputs": [],
   "source": []
  },
  {
   "cell_type": "code",
   "execution_count": 10,
   "metadata": {},
   "outputs": [
    {
     "name": "stderr",
     "output_type": "stream",
     "text": [
      "/home/nikhil97/anaconda3/lib/python3.6/site-packages/sklearn/preprocessing/_encoders.py:392: DeprecationWarning: The 'categorical_features' keyword is deprecated in version 0.20 and will be removed in 0.22. You can use the ColumnTransformer instead.\n",
      "  \"use the ColumnTransformer instead.\", DeprecationWarning)\n"
     ]
    }
   ],
   "source": [
    "from sklearn.preprocessing import LabelEncoder,OneHotEncoder\n",
    "labelencoder=LabelEncoder()\n",
    "test[:,0]=labelencoder.fit_transform(test[:,0])\n",
    "\n",
    "onehotencoder=OneHotEncoder(categorical_features=[1])\n",
    "dataset_test=onehotencoder.fit_transform(test).toarray()"
   ]
  },
  {
   "cell_type": "code",
   "execution_count": 11,
   "metadata": {},
   "outputs": [
    {
     "data": {
      "text/plain": [
       "(416, 18)"
      ]
     },
     "execution_count": 11,
     "metadata": {},
     "output_type": "execute_result"
    }
   ],
   "source": [
    "test.shape"
   ]
  },
  {
   "cell_type": "code",
   "execution_count": null,
   "metadata": {},
   "outputs": [],
   "source": []
  },
  {
   "cell_type": "code",
   "execution_count": null,
   "metadata": {},
   "outputs": [],
   "source": []
  },
  {
   "cell_type": "code",
   "execution_count": 12,
   "metadata": {},
   "outputs": [],
   "source": [
    "dataset=df_train_features"
   ]
  },
  {
   "cell_type": "code",
   "execution_count": 13,
   "metadata": {},
   "outputs": [],
   "source": [
    "dataset.drop(columns=['week_start_date','reanalysis_relative_humidity_percent','precipitation_amt_mm','reanalysis_tdtr_k','station_min_temp_c','station_avg_temp_c'],axis=1,inplace=True)"
   ]
  },
  {
   "cell_type": "code",
   "execution_count": 14,
   "metadata": {},
   "outputs": [],
   "source": [
    "dataset.fillna(method='ffill',inplace=True)"
   ]
  },
  {
   "cell_type": "code",
   "execution_count": 15,
   "metadata": {},
   "outputs": [
    {
     "data": {
      "text/plain": [
       "(1456, 18)"
      ]
     },
     "execution_count": 15,
     "metadata": {},
     "output_type": "execute_result"
    }
   ],
   "source": [
    "dataset.shape"
   ]
  },
  {
   "cell_type": "code",
   "execution_count": null,
   "metadata": {},
   "outputs": [],
   "source": []
  },
  {
   "cell_type": "code",
   "execution_count": 16,
   "metadata": {},
   "outputs": [
    {
     "data": {
      "text/plain": [
       "array(['sj', 'sj', 'sj', ..., 'iq', 'iq', 'iq'], dtype=object)"
      ]
     },
     "execution_count": 16,
     "metadata": {},
     "output_type": "execute_result"
    }
   ],
   "source": [
    "dataset.iloc[:,0].values"
   ]
  },
  {
   "cell_type": "code",
   "execution_count": 17,
   "metadata": {},
   "outputs": [
    {
     "data": {
      "text/plain": [
       "(1456, 18)"
      ]
     },
     "execution_count": 17,
     "metadata": {},
     "output_type": "execute_result"
    }
   ],
   "source": [
    "dataset.shape"
   ]
  },
  {
   "cell_type": "code",
   "execution_count": null,
   "metadata": {},
   "outputs": [],
   "source": [
    "\n",
    "\n"
   ]
  },
  {
   "cell_type": "code",
   "execution_count": null,
   "metadata": {},
   "outputs": [],
   "source": []
  },
  {
   "cell_type": "code",
   "execution_count": null,
   "metadata": {},
   "outputs": [],
   "source": []
  },
  {
   "cell_type": "code",
   "execution_count": 18,
   "metadata": {},
   "outputs": [],
   "source": [
    "X=dataset.iloc[:,0:17].values"
   ]
  },
  {
   "cell_type": "code",
   "execution_count": 19,
   "metadata": {},
   "outputs": [
    {
     "data": {
      "text/plain": [
       "array([['sj', 1990, 18, ..., 14.0128571429, 6.9, 29.4],\n",
       "       ['sj', 1990, 19, ..., 15.3728571429, 6.37142857143, 31.7],\n",
       "       ['sj', 1990, 20, ..., 16.8485714286, 6.485714285709999, 32.2],\n",
       "       ...,\n",
       "       ['iq', 2010, 23, ..., 17.0085714286, 6.9, 32.2],\n",
       "       ['iq', 2010, 24, ..., 16.8157142857, 8.73333333333, 31.2],\n",
       "       ['iq', 2010, 25, ..., 17.3557142857, 9.9, 33.7]], dtype=object)"
      ]
     },
     "execution_count": 19,
     "metadata": {},
     "output_type": "execute_result"
    }
   ],
   "source": [
    "X"
   ]
  },
  {
   "cell_type": "code",
   "execution_count": 20,
   "metadata": {},
   "outputs": [],
   "source": [
    "y=dataset.iloc[:,17].values"
   ]
  },
  {
   "cell_type": "code",
   "execution_count": null,
   "metadata": {},
   "outputs": [],
   "source": []
  },
  {
   "cell_type": "code",
   "execution_count": 21,
   "metadata": {},
   "outputs": [
    {
     "name": "stderr",
     "output_type": "stream",
     "text": [
      "/home/nikhil97/anaconda3/lib/python3.6/site-packages/sklearn/preprocessing/_encoders.py:392: DeprecationWarning: The 'categorical_features' keyword is deprecated in version 0.20 and will be removed in 0.22. You can use the ColumnTransformer instead.\n",
      "  \"use the ColumnTransformer instead.\", DeprecationWarning)\n"
     ]
    }
   ],
   "source": [
    "from sklearn.preprocessing import LabelEncoder,OneHotEncoder\n",
    "labelencoder=LabelEncoder()\n",
    "X[:,0]=labelencoder.fit_transform(X[:,0])\n",
    "\n",
    "onehotencoder=OneHotEncoder(categorical_features=[1])\n",
    "dataset=onehotencoder.fit_transform(X).toarray()\n",
    "\n"
   ]
  },
  {
   "cell_type": "code",
   "execution_count": 22,
   "metadata": {},
   "outputs": [
    {
     "data": {
      "text/plain": [
       "array([[1, 1990, 18, ..., 14.0128571429, 6.9, 29.4],\n",
       "       [1, 1990, 19, ..., 15.3728571429, 6.37142857143, 31.7],\n",
       "       [1, 1990, 20, ..., 16.8485714286, 6.485714285709999, 32.2],\n",
       "       ...,\n",
       "       [0, 2010, 23, ..., 17.0085714286, 6.9, 32.2],\n",
       "       [0, 2010, 24, ..., 16.8157142857, 8.73333333333, 31.2],\n",
       "       [0, 2010, 25, ..., 17.3557142857, 9.9, 33.7]], dtype=object)"
      ]
     },
     "execution_count": 22,
     "metadata": {},
     "output_type": "execute_result"
    }
   ],
   "source": [
    "X"
   ]
  },
  {
   "cell_type": "code",
   "execution_count": 23,
   "metadata": {},
   "outputs": [
    {
     "data": {
      "text/plain": [
       "array([16. ,  8.6, 41.4, ...,  7.4, 16. , 20.4])"
      ]
     },
     "execution_count": 23,
     "metadata": {},
     "output_type": "execute_result"
    }
   ],
   "source": [
    "y"
   ]
  },
  {
   "cell_type": "code",
   "execution_count": null,
   "metadata": {},
   "outputs": [],
   "source": []
  },
  {
   "cell_type": "code",
   "execution_count": null,
   "metadata": {},
   "outputs": [],
   "source": []
  },
  {
   "cell_type": "code",
   "execution_count": 24,
   "metadata": {},
   "outputs": [],
   "source": [
    "from sklearn.model_selection import train_test_split\n",
    "X_train,X_test,y_train,y_test=train_test_split(X,y)\n"
   ]
  },
  {
   "cell_type": "code",
   "execution_count": 151,
   "metadata": {},
   "outputs": [],
   "source": [
    "from keras import Sequential\n",
    "from keras.layers import Dense\n"
   ]
  },
  {
   "cell_type": "code",
   "execution_count": 165,
   "metadata": {},
   "outputs": [],
   "source": [
    "def build_regressor():\n",
    "    regressor = Sequential()\n",
    "    regressor.add(Dense(units=15, input_dim=17,activation='relu'))   ##20,\n",
    "    regressor.add(Dense(units=12,activation='relu'))\n",
    "    regressor.add(Dropout(0.2))\n",
    "    regressor.add(Dense(units=12,activation='relu'))\n",
    "    regressor.add(Dropout(0.2))\n",
    "    regressor.add(Dense(units=10,activation='relu'))\n",
    "    regressor.add(Dense(units=8,activation='relu'))\n",
    "    regressor.add(Dropout(0.2))\n",
    "    regressor.add(Dense(units=6,activation='relu'))\n",
    "    regressor.add(Dropout(0.1))\n",
    "    regressor.add(Dense(units=6,activation='relu'))\n",
    "    regressor.add(Dense(units=1))\n",
    "    regressor.compile(optimizer='adam', loss='mean_squared_error',  metrics=['mae'])\n",
    "    return regressor\n",
    "    "
   ]
  },
  {
   "cell_type": "code",
   "execution_count": 166,
   "metadata": {},
   "outputs": [],
   "source": [
    "from keras.wrappers.scikit_learn import KerasRegressor\n",
    "regressor = KerasRegressor(build_fn=build_regressor,batch_size=5,epochs=100)"
   ]
  },
  {
   "cell_type": "code",
   "execution_count": null,
   "metadata": {},
   "outputs": [],
   "source": [
    " "
   ]
  },
  {
   "cell_type": "code",
   "execution_count": 167,
   "metadata": {},
   "outputs": [
    {
     "name": "stdout",
     "output_type": "stream",
     "text": [
      "Epoch 1/100\n",
      "1092/1092 [==============================] - 1s 1ms/step - loss: 8107.1044 - mean_absolute_error: 61.8450\n",
      "Epoch 2/100\n",
      "1092/1092 [==============================] - 0s 303us/step - loss: 3046.3192 - mean_absolute_error: 36.5288\n",
      "Epoch 3/100\n",
      "1092/1092 [==============================] - 0s 285us/step - loss: 2843.0960 - mean_absolute_error: 35.2246\n",
      "Epoch 4/100\n",
      "1092/1092 [==============================] - 0s 304us/step - loss: 2742.9122 - mean_absolute_error: 35.0106\n",
      "Epoch 5/100\n",
      "1092/1092 [==============================] - 0s 288us/step - loss: 2733.4103 - mean_absolute_error: 34.1090\n",
      "Epoch 6/100\n",
      "1092/1092 [==============================] - 0s 349us/step - loss: 2659.8302 - mean_absolute_error: 33.9368\n",
      "Epoch 7/100\n",
      "1092/1092 [==============================] - 0s 296us/step - loss: 2580.9863 - mean_absolute_error: 32.3723\n",
      "Epoch 8/100\n",
      "1092/1092 [==============================] - 0s 359us/step - loss: 2583.7312 - mean_absolute_error: 33.0513\n",
      "Epoch 9/100\n",
      "1092/1092 [==============================] - 0s 300us/step - loss: 2514.2175 - mean_absolute_error: 32.7623\n",
      "Epoch 10/100\n",
      "1092/1092 [==============================] - 0s 351us/step - loss: 2561.8262 - mean_absolute_error: 32.8774\n",
      "Epoch 11/100\n",
      "1092/1092 [==============================] - 0s 289us/step - loss: 2445.1063 - mean_absolute_error: 32.3898\n",
      "Epoch 12/100\n",
      "1092/1092 [==============================] - 0s 314us/step - loss: 2372.5032 - mean_absolute_error: 31.7928\n",
      "Epoch 13/100\n",
      "1092/1092 [==============================] - 0s 290us/step - loss: 2403.9983 - mean_absolute_error: 31.6613\n",
      "Epoch 14/100\n",
      "1092/1092 [==============================] - 0s 291us/step - loss: 2257.0002 - mean_absolute_error: 30.9147\n",
      "Epoch 15/100\n",
      "1092/1092 [==============================] - 0s 296us/step - loss: 2277.4501 - mean_absolute_error: 30.2561\n",
      "Epoch 16/100\n",
      "1092/1092 [==============================] - 0s 314us/step - loss: 2223.2926 - mean_absolute_error: 29.8014\n",
      "Epoch 17/100\n",
      "1092/1092 [==============================] - 0s 333us/step - loss: 2159.6725 - mean_absolute_error: 29.0808\n",
      "Epoch 18/100\n",
      "1092/1092 [==============================] - 0s 367us/step - loss: 2028.1171 - mean_absolute_error: 28.0505\n",
      "Epoch 19/100\n",
      "1092/1092 [==============================] - 0s 309us/step - loss: 2108.9292 - mean_absolute_error: 28.0411\n",
      "Epoch 20/100\n",
      "1092/1092 [==============================] - 0s 291us/step - loss: 1968.3258 - mean_absolute_error: 26.9957\n",
      "Epoch 21/100\n",
      "1092/1092 [==============================] - 0s 319us/step - loss: 1986.3245 - mean_absolute_error: 27.5881\n",
      "Epoch 22/100\n",
      "1092/1092 [==============================] - 0s 313us/step - loss: 1965.8826 - mean_absolute_error: 27.2570\n",
      "Epoch 23/100\n",
      "1092/1092 [==============================] - 0s 294us/step - loss: 1831.4018 - mean_absolute_error: 26.7514\n",
      "Epoch 24/100\n",
      "1092/1092 [==============================] - 0s 345us/step - loss: 2050.1907 - mean_absolute_error: 27.4218\n",
      "Epoch 25/100\n",
      "1092/1092 [==============================] - 0s 308us/step - loss: 1901.9992 - mean_absolute_error: 26.9377\n",
      "Epoch 26/100\n",
      "1092/1092 [==============================] - 0s 295us/step - loss: 1922.4413 - mean_absolute_error: 26.7593\n",
      "Epoch 27/100\n",
      "1092/1092 [==============================] - 0s 294us/step - loss: 1706.1173 - mean_absolute_error: 25.9532\n",
      "Epoch 28/100\n",
      "1092/1092 [==============================] - 0s 319us/step - loss: 1812.9160 - mean_absolute_error: 26.5216\n",
      "Epoch 29/100\n",
      "1092/1092 [==============================] - 0s 298us/step - loss: 1867.2433 - mean_absolute_error: 26.3322\n",
      "Epoch 30/100\n",
      "1092/1092 [==============================] - 0s 296us/step - loss: 1806.8810 - mean_absolute_error: 26.9850\n",
      "Epoch 31/100\n",
      "1092/1092 [==============================] - 0s 378us/step - loss: 1953.4873 - mean_absolute_error: 27.0442\n",
      "Epoch 32/100\n",
      "1092/1092 [==============================] - 0s 320us/step - loss: 1845.9955 - mean_absolute_error: 26.5123\n",
      "Epoch 33/100\n",
      "1092/1092 [==============================] - 0s 308us/step - loss: 1794.9708 - mean_absolute_error: 26.5580\n",
      "Epoch 34/100\n",
      "1092/1092 [==============================] - 0s 350us/step - loss: 1820.7668 - mean_absolute_error: 26.8844\n",
      "Epoch 35/100\n",
      "1092/1092 [==============================] - 0s 294us/step - loss: 1840.1557 - mean_absolute_error: 26.7148\n",
      "Epoch 36/100\n",
      "1092/1092 [==============================] - 0s 316us/step - loss: 1764.9522 - mean_absolute_error: 26.8523\n",
      "Epoch 37/100\n",
      "1092/1092 [==============================] - 0s 314us/step - loss: 1849.0569 - mean_absolute_error: 26.6855\n",
      "Epoch 38/100\n",
      "1092/1092 [==============================] - 0s 287us/step - loss: 1793.8190 - mean_absolute_error: 26.6776\n",
      "Epoch 39/100\n",
      "1092/1092 [==============================] - 0s 314us/step - loss: 1812.8031 - mean_absolute_error: 26.8899\n",
      "Epoch 40/100\n",
      "1092/1092 [==============================] - 0s 355us/step - loss: 1853.4610 - mean_absolute_error: 27.0268\n",
      "Epoch 41/100\n",
      "1092/1092 [==============================] - 0s 297us/step - loss: 1721.4232 - mean_absolute_error: 26.4387\n",
      "Epoch 42/100\n",
      "1092/1092 [==============================] - 0s 294us/step - loss: 1767.8360 - mean_absolute_error: 26.6531\n",
      "Epoch 43/100\n",
      "1092/1092 [==============================] - 0s 311us/step - loss: 1880.9713 - mean_absolute_error: 27.1872\n",
      "Epoch 44/100\n",
      "1092/1092 [==============================] - 0s 352us/step - loss: 1765.1155 - mean_absolute_error: 26.9466\n",
      "Epoch 45/100\n",
      "1092/1092 [==============================] - 0s 335us/step - loss: 1827.2285 - mean_absolute_error: 26.8586\n",
      "Epoch 46/100\n",
      "1092/1092 [==============================] - 0s 294us/step - loss: 1760.6811 - mean_absolute_error: 27.1518\n",
      "Epoch 47/100\n",
      "1092/1092 [==============================] - 0s 311us/step - loss: 1793.1590 - mean_absolute_error: 26.7016\n",
      "Epoch 48/100\n",
      "1092/1092 [==============================] - 0s 353us/step - loss: 1773.2979 - mean_absolute_error: 27.0025\n",
      "Epoch 49/100\n",
      "1092/1092 [==============================] - 0s 304us/step - loss: 1808.8146 - mean_absolute_error: 26.7742\n",
      "Epoch 50/100\n",
      "1092/1092 [==============================] - 0s 284us/step - loss: 1782.1285 - mean_absolute_error: 26.5290\n",
      "Epoch 51/100\n",
      "1092/1092 [==============================] - 0s 313us/step - loss: 1841.1028 - mean_absolute_error: 27.2629\n",
      "Epoch 52/100\n",
      "1092/1092 [==============================] - 0s 331us/step - loss: 1758.8589 - mean_absolute_error: 26.5519\n",
      "Epoch 53/100\n",
      "1092/1092 [==============================] - 0s 309us/step - loss: 1723.5268 - mean_absolute_error: 26.2913\n",
      "Epoch 54/100\n",
      "1092/1092 [==============================] - 0s 277us/step - loss: 1763.7252 - mean_absolute_error: 26.8144\n",
      "Epoch 55/100\n",
      "1092/1092 [==============================] - 0s 269us/step - loss: 1730.0082 - mean_absolute_error: 26.7144\n",
      "Epoch 56/100\n",
      "1092/1092 [==============================] - 0s 343us/step - loss: 1867.2344 - mean_absolute_error: 26.9668\n",
      "Epoch 57/100\n",
      "1092/1092 [==============================] - 1s 593us/step - loss: 1748.2652 - mean_absolute_error: 26.8237\n",
      "Epoch 58/100\n",
      "1092/1092 [==============================] - 0s 344us/step - loss: 1732.7268 - mean_absolute_error: 26.5074\n",
      "Epoch 59/100\n",
      "1092/1092 [==============================] - 0s 321us/step - loss: 1767.7273 - mean_absolute_error: 26.4578\n",
      "Epoch 60/100\n",
      "1092/1092 [==============================] - 0s 343us/step - loss: 1865.9351 - mean_absolute_error: 26.8970\n",
      "Epoch 61/100\n",
      "1092/1092 [==============================] - 0s 315us/step - loss: 1785.4374 - mean_absolute_error: 27.0314\n",
      "Epoch 62/100\n",
      "1092/1092 [==============================] - 0s 323us/step - loss: 1885.5785 - mean_absolute_error: 26.8679\n",
      "Epoch 63/100\n",
      "1092/1092 [==============================] - 0s 332us/step - loss: 1808.2976 - mean_absolute_error: 26.6934\n",
      "Epoch 64/100\n",
      "1092/1092 [==============================] - 0s 323us/step - loss: 1800.5551 - mean_absolute_error: 27.0188\n",
      "Epoch 65/100\n",
      "1092/1092 [==============================] - 0s 331us/step - loss: 1794.8804 - mean_absolute_error: 26.9838\n",
      "Epoch 66/100\n",
      "1092/1092 [==============================] - 0s 320us/step - loss: 1720.4797 - mean_absolute_error: 26.1958\n",
      "Epoch 67/100\n",
      "1092/1092 [==============================] - 0s 292us/step - loss: 1768.7168 - mean_absolute_error: 27.0278\n",
      "Epoch 68/100\n",
      "1092/1092 [==============================] - 0s 301us/step - loss: 1780.5638 - mean_absolute_error: 26.7371\n",
      "Epoch 69/100\n",
      "1092/1092 [==============================] - 0s 273us/step - loss: 1754.7415 - mean_absolute_error: 26.4361\n",
      "Epoch 70/100\n",
      "1092/1092 [==============================] - 0s 277us/step - loss: 1769.9637 - mean_absolute_error: 26.5835\n",
      "Epoch 71/100\n",
      "1092/1092 [==============================] - 0s 276us/step - loss: 1793.9491 - mean_absolute_error: 26.2809\n",
      "Epoch 72/100\n",
      "1092/1092 [==============================] - 0s 276us/step - loss: 1752.6187 - mean_absolute_error: 26.5058\n",
      "Epoch 73/100\n",
      "1092/1092 [==============================] - 0s 286us/step - loss: 1703.8008 - mean_absolute_error: 26.2934\n",
      "Epoch 74/100\n",
      "1092/1092 [==============================] - 0s 370us/step - loss: 1769.9194 - mean_absolute_error: 26.7993\n",
      "Epoch 75/100\n",
      "1092/1092 [==============================] - 0s 287us/step - loss: 1681.3309 - mean_absolute_error: 26.5224\n",
      "Epoch 76/100\n",
      "1092/1092 [==============================] - 0s 285us/step - loss: 1747.1929 - mean_absolute_error: 26.6732\n",
      "Epoch 77/100\n",
      "1092/1092 [==============================] - 0s 286us/step - loss: 1738.1595 - mean_absolute_error: 26.4087\n",
      "Epoch 78/100\n",
      "1092/1092 [==============================] - 0s 287us/step - loss: 1724.0985 - mean_absolute_error: 26.7217\n",
      "Epoch 79/100\n",
      "1092/1092 [==============================] - 0s 350us/step - loss: 1817.4907 - mean_absolute_error: 26.7571\n",
      "Epoch 80/100\n",
      "1092/1092 [==============================] - 0s 302us/step - loss: 1747.1933 - mean_absolute_error: 26.5836\n",
      "Epoch 81/100\n",
      "1092/1092 [==============================] - 0s 297us/step - loss: 1750.9733 - mean_absolute_error: 26.2374\n",
      "Epoch 82/100\n",
      "1092/1092 [==============================] - 0s 378us/step - loss: 1754.4654 - mean_absolute_error: 26.1224\n",
      "Epoch 83/100\n",
      "1092/1092 [==============================] - 0s 321us/step - loss: 1732.0297 - mean_absolute_error: 26.5283\n",
      "Epoch 84/100\n",
      "1092/1092 [==============================] - 0s 316us/step - loss: 1697.0023 - mean_absolute_error: 26.4072\n",
      "Epoch 85/100\n",
      "1092/1092 [==============================] - 0s 309us/step - loss: 1727.3983 - mean_absolute_error: 25.8103\n",
      "Epoch 86/100\n",
      "1092/1092 [==============================] - 0s 333us/step - loss: 1681.5851 - mean_absolute_error: 26.2095\n",
      "Epoch 87/100\n",
      "1092/1092 [==============================] - 0s 334us/step - loss: 1736.2625 - mean_absolute_error: 26.0530\n",
      "Epoch 88/100\n",
      "1092/1092 [==============================] - 0s 315us/step - loss: 1750.7132 - mean_absolute_error: 26.4673\n",
      "Epoch 89/100\n",
      "1092/1092 [==============================] - 0s 388us/step - loss: 1738.3670 - mean_absolute_error: 26.5316\n",
      "Epoch 90/100\n",
      "1092/1092 [==============================] - 0s 317us/step - loss: 1742.4349 - mean_absolute_error: 26.5993\n",
      "Epoch 91/100\n",
      "1092/1092 [==============================] - 0s 304us/step - loss: 1729.0744 - mean_absolute_error: 26.3217\n",
      "Epoch 92/100\n",
      "1092/1092 [==============================] - 0s 328us/step - loss: 1698.5499 - mean_absolute_error: 26.2966\n",
      "Epoch 93/100\n",
      "1092/1092 [==============================] - 0s 322us/step - loss: 1724.2826 - mean_absolute_error: 26.5607\n",
      "Epoch 94/100\n",
      "1092/1092 [==============================] - 0s 312us/step - loss: 1738.4653 - mean_absolute_error: 26.1130\n",
      "Epoch 95/100\n",
      "1092/1092 [==============================] - 0s 318us/step - loss: 1667.9361 - mean_absolute_error: 26.1360\n",
      "Epoch 96/100\n",
      "1092/1092 [==============================] - 0s 320us/step - loss: 1693.0347 - mean_absolute_error: 26.1821\n",
      "Epoch 97/100\n",
      "1092/1092 [==============================] - 0s 325us/step - loss: 1727.2327 - mean_absolute_error: 26.3164\n",
      "Epoch 98/100\n",
      "1092/1092 [==============================] - 0s 327us/step - loss: 1671.4657 - mean_absolute_error: 26.1371\n",
      "Epoch 99/100\n",
      "1092/1092 [==============================] - 0s 297us/step - loss: 1674.0354 - mean_absolute_error: 25.8105\n",
      "Epoch 100/100\n",
      "1092/1092 [==============================] - 0s 298us/step - loss: 1671.3747 - mean_absolute_error: 25.9578\n"
     ]
    }
   ],
   "source": [
    "results=regressor.fit(X_train,y_train)"
   ]
  },
  {
   "cell_type": "code",
   "execution_count": 27,
   "metadata": {},
   "outputs": [],
   "source": [
    "y_pred= regressor.predict(X_test)"
   ]
  },
  {
   "cell_type": "code",
   "execution_count": null,
   "metadata": {},
   "outputs": [],
   "source": []
  },
  {
   "cell_type": "code",
   "execution_count": 28,
   "metadata": {},
   "outputs": [],
   "source": [
    "res=regressor.predict(test).astype(int)"
   ]
  },
  {
   "cell_type": "code",
   "execution_count": null,
   "metadata": {},
   "outputs": [],
   "source": []
  },
  {
   "cell_type": "code",
   "execution_count": 29,
   "metadata": {},
   "outputs": [],
   "source": [
    "submission = pd.read_csv(\"submission_format.csv\",\n",
    "                         index_col=[0, 1, 2])\n",
    "\n",
    "submission.total_cases = res\n",
    "submission.to_csv(\"new_Values_neural.csv\")"
   ]
  },
  {
   "cell_type": "code",
   "execution_count": null,
   "metadata": {},
   "outputs": [],
   "source": []
  },
  {
   "cell_type": "code",
   "execution_count": null,
   "metadata": {},
   "outputs": [],
   "source": []
  },
  {
   "cell_type": "code",
   "execution_count": null,
   "metadata": {},
   "outputs": [],
   "source": []
  },
  {
   "cell_type": "code",
   "execution_count": null,
   "metadata": {},
   "outputs": [],
   "source": []
  },
  {
   "cell_type": "code",
   "execution_count": null,
   "metadata": {},
   "outputs": [],
   "source": [
    "\n"
   ]
  },
  {
   "cell_type": "code",
   "execution_count": null,
   "metadata": {},
   "outputs": [],
   "source": []
  },
  {
   "cell_type": "code",
   "execution_count": null,
   "metadata": {},
   "outputs": [],
   "source": []
  },
  {
   "cell_type": "code",
   "execution_count": null,
   "metadata": {},
   "outputs": [],
   "source": []
  },
  {
   "cell_type": "code",
   "execution_count": null,
   "metadata": {},
   "outputs": [],
   "source": []
  }
 ],
 "metadata": {
  "kernelspec": {
   "display_name": "Python 3",
   "language": "python",
   "name": "python3"
  },
  "language_info": {
   "codemirror_mode": {
    "name": "ipython",
    "version": 3
   },
   "file_extension": ".py",
   "mimetype": "text/x-python",
   "name": "python",
   "nbconvert_exporter": "python",
   "pygments_lexer": "ipython3",
   "version": "3.6.8"
  }
 },
 "nbformat": 4,
 "nbformat_minor": 2
}
