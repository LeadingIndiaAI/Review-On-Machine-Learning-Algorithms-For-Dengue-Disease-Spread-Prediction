{
  "nbformat": 4,
  "nbformat_minor": 0,
  "metadata": {
    "colab": {
      "name": "relevent_features.ipynb",
      "version": "0.3.2",
      "provenance": [],
      "collapsed_sections": []
    },
    "kernelspec": {
      "name": "python3",
      "display_name": "Python 3"
    },
    "accelerator": "GPU"
  },
  "cells": [
    {
      "cell_type": "code",
      "metadata": {
        "id": "n5oInnkZwjwm",
        "colab_type": "code",
        "colab": {}
      },
      "source": [
        "import numpy as np\n",
        "import pandas as pd\n",
        "import matplotlib.pyplot as plt\n",
        "import seaborn as sns\n",
        "%matplotlib inline"
      ],
      "execution_count": 0,
      "outputs": []
    },
    {
      "cell_type": "code",
      "metadata": {
        "id": "1wzEF7p8wlMT",
        "colab_type": "code",
        "colab": {}
      },
      "source": [
        "x=pd.read_csv('https://s3.amazonaws.com/drivendata/data/44/public/dengue_features_train.csv')\n",
        "y=pd.read_csv('https://s3.amazonaws.com/drivendata/data/44/public/dengue_labels_train.csv')\n",
        "x_test=pd.read_csv('https://s3.amazonaws.com/drivendata/data/44/public/dengue_features_test.csv')\n",
        "submission_file=pd.read_csv('https://s3.amazonaws.com/drivendata/data/44/public/submission_format.csv')"
      ],
      "execution_count": 0,
      "outputs": []
    },
    {
      "cell_type": "code",
      "metadata": {
        "id": "qRivwzaAwwmc",
        "colab_type": "code",
        "outputId": "5eb8f20e-b515-4b01-eeac-2ec5dc369f78",
        "colab": {
          "base_uri": "https://localhost:8080/",
          "height": 521
        }
      },
      "source": [
        "x.fillna(method='ffill', inplace=True)\n",
        "x_test.fillna(method='ffill', inplace=True)\n",
        "x.info()"
      ],
      "execution_count": 0,
      "outputs": [
        {
          "output_type": "stream",
          "text": [
            "<class 'pandas.core.frame.DataFrame'>\n",
            "RangeIndex: 1456 entries, 0 to 1455\n",
            "Data columns (total 24 columns):\n",
            "city                                     1456 non-null object\n",
            "year                                     1456 non-null int64\n",
            "weekofyear                               1456 non-null int64\n",
            "week_start_date                          1456 non-null object\n",
            "ndvi_ne                                  1456 non-null float64\n",
            "ndvi_nw                                  1456 non-null float64\n",
            "ndvi_se                                  1456 non-null float64\n",
            "ndvi_sw                                  1456 non-null float64\n",
            "precipitation_amt_mm                     1456 non-null float64\n",
            "reanalysis_air_temp_k                    1456 non-null float64\n",
            "reanalysis_avg_temp_k                    1456 non-null float64\n",
            "reanalysis_dew_point_temp_k              1456 non-null float64\n",
            "reanalysis_max_air_temp_k                1456 non-null float64\n",
            "reanalysis_min_air_temp_k                1456 non-null float64\n",
            "reanalysis_precip_amt_kg_per_m2          1456 non-null float64\n",
            "reanalysis_relative_humidity_percent     1456 non-null float64\n",
            "reanalysis_sat_precip_amt_mm             1456 non-null float64\n",
            "reanalysis_specific_humidity_g_per_kg    1456 non-null float64\n",
            "reanalysis_tdtr_k                        1456 non-null float64\n",
            "station_avg_temp_c                       1456 non-null float64\n",
            "station_diur_temp_rng_c                  1456 non-null float64\n",
            "station_max_temp_c                       1456 non-null float64\n",
            "station_min_temp_c                       1456 non-null float64\n",
            "station_precip_mm                        1456 non-null float64\n",
            "dtypes: float64(20), int64(2), object(2)\n",
            "memory usage: 273.1+ KB\n"
          ],
          "name": "stdout"
        }
      ]
    },
    {
      "cell_type": "code",
      "metadata": {
        "id": "MICvQ6zF7BXH",
        "colab_type": "code",
        "colab": {}
      },
      "source": [
        "features=['city','year','weekofyear','ndvi_se','station_avg_temp_c','ndvi_sw','reanalysis_dew_point_temp_k','reanalysis_air_temp_k','ndvi_ne','reanalysis_max_air_temp_k','reanalysis_min_air_temp_k','ndvi_nw','reanalysis_tdtr_k','precipitation_amt_mm','reanalysis_precip_amt_kg_per_m2','station_precip_mm']"
      ],
      "execution_count": 0,
      "outputs": []
    },
    {
      "cell_type": "code",
      "metadata": {
        "id": "oG59Lxe-HJVi",
        "colab_type": "code",
        "colab": {}
      },
      "source": [
        "features1=['ndvi_ne','year','weekofyear','ndvi_se','ndvi_nw','reanalysis_air_temp_k','precipitation_amt_mm','ndvi_sw','reanalysis_dew_point_temp_k','reanalysis_precip_amt_kg_per_m2','station_precip_mm','station_avg_temp_c','station_diur_temp_rng_c']"
      ],
      "execution_count": 0,
      "outputs": []
    },
    {
      "cell_type": "code",
      "metadata": {
        "id": "aUf6a17nHLJK",
        "colab_type": "code",
        "colab": {}
      },
      "source": [
        "fe=['year','weekofyear','station_avg_temp_c','reanalysis_dew_point_temp_k','ndvi_ne','reanalysis_tdtr_k']"
      ],
      "execution_count": 0,
      "outputs": []
    },
    {
      "cell_type": "code",
      "metadata": {
        "id": "QQPZ_0r_7MAD",
        "colab_type": "code",
        "outputId": "6777f9b6-7a10-4c97-f43e-0ea7d01c0318",
        "colab": {
          "base_uri": "https://localhost:8080/",
          "height": 208
        }
      },
      "source": [
        "X=x[fe]\n",
        "X.info()"
      ],
      "execution_count": 0,
      "outputs": [
        {
          "output_type": "stream",
          "text": [
            "<class 'pandas.core.frame.DataFrame'>\n",
            "RangeIndex: 1456 entries, 0 to 1455\n",
            "Data columns (total 6 columns):\n",
            "year                           1456 non-null int64\n",
            "weekofyear                     1456 non-null int64\n",
            "station_avg_temp_c             1456 non-null float64\n",
            "reanalysis_dew_point_temp_k    1456 non-null float64\n",
            "ndvi_ne                        1456 non-null float64\n",
            "reanalysis_tdtr_k              1456 non-null float64\n",
            "dtypes: float64(4), int64(2)\n",
            "memory usage: 68.3 KB\n"
          ],
          "name": "stdout"
        }
      ]
    },
    {
      "cell_type": "code",
      "metadata": {
        "id": "-ddUNjmL7aIp",
        "colab_type": "code",
        "colab": {}
      },
      "source": [
        "#X['city1']=np.where(X['city']=='sj',1,-1)\n",
        "#X.drop(columns='city',inplace=True)"
      ],
      "execution_count": 0,
      "outputs": []
    },
    {
      "cell_type": "code",
      "metadata": {
        "id": "Pm6k_0_G_lU_",
        "colab_type": "code",
        "colab": {}
      },
      "source": [
        "y.drop(columns='city',inplace=True)\n",
        "y.drop(columns='year',inplace=True)\n",
        "y.drop(columns='weekofyear',inplace=True)"
      ],
      "execution_count": 0,
      "outputs": []
    },
    {
      "cell_type": "code",
      "metadata": {
        "id": "CDmfICBc_YXf",
        "colab_type": "code",
        "outputId": "9cf9c488-1a8f-45e4-9875-5ac0c6c6277e",
        "colab": {
          "base_uri": "https://localhost:8080/",
          "height": 312
        }
      },
      "source": [
        "X.info()\n",
        "y.info()"
      ],
      "execution_count": 0,
      "outputs": [
        {
          "output_type": "stream",
          "text": [
            "<class 'pandas.core.frame.DataFrame'>\n",
            "RangeIndex: 1456 entries, 0 to 1455\n",
            "Data columns (total 6 columns):\n",
            "year                           1456 non-null int64\n",
            "weekofyear                     1456 non-null int64\n",
            "station_avg_temp_c             1456 non-null float64\n",
            "reanalysis_dew_point_temp_k    1456 non-null float64\n",
            "ndvi_ne                        1456 non-null float64\n",
            "reanalysis_tdtr_k              1456 non-null float64\n",
            "dtypes: float64(4), int64(2)\n",
            "memory usage: 68.3 KB\n",
            "<class 'pandas.core.frame.DataFrame'>\n",
            "RangeIndex: 1456 entries, 0 to 1455\n",
            "Data columns (total 1 columns):\n",
            "total_cases    1456 non-null int64\n",
            "dtypes: int64(1)\n",
            "memory usage: 11.5 KB\n"
          ],
          "name": "stdout"
        }
      ]
    },
    {
      "cell_type": "code",
      "metadata": {
        "id": "fyn3sgivALuu",
        "colab_type": "code",
        "outputId": "a3ee6948-f044-432b-b030-d4027b63677d",
        "colab": {
          "base_uri": "https://localhost:8080/",
          "height": 121
        }
      },
      "source": [
        "y.info()"
      ],
      "execution_count": 0,
      "outputs": [
        {
          "output_type": "stream",
          "text": [
            "<class 'pandas.core.frame.DataFrame'>\n",
            "RangeIndex: 1456 entries, 0 to 1455\n",
            "Data columns (total 1 columns):\n",
            "total_cases    1456 non-null int64\n",
            "dtypes: int64(1)\n",
            "memory usage: 11.5 KB\n"
          ],
          "name": "stdout"
        }
      ]
    },
    {
      "cell_type": "code",
      "metadata": {
        "id": "rhx6xb3yANVD",
        "colab_type": "code",
        "colab": {}
      },
      "source": [
        "from sklearn.model_selection import train_test_split\n",
        "seed = 0\n",
        "test_size = 0.2\n",
        "X_train, X_test, y_train, y_test = train_test_split(X, y, test_size=test_size, random_state=seed)"
      ],
      "execution_count": 0,
      "outputs": []
    },
    {
      "cell_type": "code",
      "metadata": {
        "id": "p9TySQhY9xK0",
        "colab_type": "code",
        "outputId": "319db694-daa3-4750-81b3-cf4c222517f6",
        "colab": {
          "base_uri": "https://localhost:8080/",
          "height": 34
        }
      },
      "source": [
        "from sklearn.linear_model import LinearRegression\n",
        "lr=LinearRegression()\n",
        "lr.fit(X_train,y_train)"
      ],
      "execution_count": 0,
      "outputs": [
        {
          "output_type": "execute_result",
          "data": {
            "text/plain": [
              "LinearRegression(copy_X=True, fit_intercept=True, n_jobs=None, normalize=False)"
            ]
          },
          "metadata": {
            "tags": []
          },
          "execution_count": 77
        }
      ]
    },
    {
      "cell_type": "code",
      "metadata": {
        "id": "LooCVvRM9-p6",
        "colab_type": "code",
        "outputId": "b673cbe1-7ac9-49ec-d7ed-8a9b565201f5",
        "colab": {
          "base_uri": "https://localhost:8080/",
          "height": 34
        }
      },
      "source": [
        "from sklearn.metrics import mean_absolute_error\n",
        "predictions = lr.predict(X_test)\n",
        "print(\"Mean Absolute Error: \" + str(mean_absolute_error(predictions, y_test)))"
      ],
      "execution_count": 0,
      "outputs": [
        {
          "output_type": "stream",
          "text": [
            "Mean Absolute Error: 21.88485534032757\n"
          ],
          "name": "stdout"
        }
      ]
    },
    {
      "cell_type": "code",
      "metadata": {
        "id": "K-W5D47-FgBL",
        "colab_type": "code",
        "outputId": "4ba9827c-7901-4957-a5cc-d198b8f44e3c",
        "colab": {
          "base_uri": "https://localhost:8080/",
          "height": 104
        }
      },
      "source": [
        "from sklearn import tree\n",
        "dt=tree.DecisionTreeRegressor()\n",
        "dt.fit(X_train,y_train)\n"
      ],
      "execution_count": 0,
      "outputs": [
        {
          "output_type": "execute_result",
          "data": {
            "text/plain": [
              "DecisionTreeRegressor(criterion='mse', max_depth=None, max_features=None,\n",
              "                      max_leaf_nodes=None, min_impurity_decrease=0.0,\n",
              "                      min_impurity_split=None, min_samples_leaf=1,\n",
              "                      min_samples_split=2, min_weight_fraction_leaf=0.0,\n",
              "                      presort=False, random_state=None, splitter='best')"
            ]
          },
          "metadata": {
            "tags": []
          },
          "execution_count": 79
        }
      ]
    },
    {
      "cell_type": "code",
      "metadata": {
        "id": "kHb90AswF0tM",
        "colab_type": "code",
        "outputId": "9692ccb5-6e55-4917-9995-61be82d8a836",
        "colab": {
          "base_uri": "https://localhost:8080/",
          "height": 34
        }
      },
      "source": [
        "from sklearn.metrics import mean_absolute_error\n",
        "predictions = dt.predict(X_test)\n",
        "print(\"Mean Absolute Error: \" + str(mean_absolute_error(predictions, y_test)))"
      ],
      "execution_count": 0,
      "outputs": [
        {
          "output_type": "stream",
          "text": [
            "Mean Absolute Error: 11.256849315068493\n"
          ],
          "name": "stdout"
        }
      ]
    },
    {
      "cell_type": "code",
      "metadata": {
        "id": "-nKr0mfNgUfN",
        "colab_type": "code",
        "outputId": "83cc0aff-7bde-43cc-ec2a-c35def8ec93c",
        "colab": {
          "base_uri": "https://localhost:8080/",
          "height": 228
        }
      },
      "source": [
        " from sklearn.ensemble import RandomForestRegressor\n",
        " reg=RandomForestRegressor()\n",
        " reg.fit(X_train,y_train)"
      ],
      "execution_count": 0,
      "outputs": [
        {
          "output_type": "stream",
          "text": [
            "/usr/local/lib/python3.6/dist-packages/sklearn/ensemble/forest.py:245: FutureWarning: The default value of n_estimators will change from 10 in version 0.20 to 100 in 0.22.\n",
            "  \"10 in version 0.20 to 100 in 0.22.\", FutureWarning)\n",
            "/usr/local/lib/python3.6/dist-packages/ipykernel_launcher.py:3: DataConversionWarning: A column-vector y was passed when a 1d array was expected. Please change the shape of y to (n_samples,), for example using ravel().\n",
            "  This is separate from the ipykernel package so we can avoid doing imports until\n"
          ],
          "name": "stderr"
        },
        {
          "output_type": "execute_result",
          "data": {
            "text/plain": [
              "RandomForestRegressor(bootstrap=True, criterion='mse', max_depth=None,\n",
              "                      max_features='auto', max_leaf_nodes=None,\n",
              "                      min_impurity_decrease=0.0, min_impurity_split=None,\n",
              "                      min_samples_leaf=1, min_samples_split=2,\n",
              "                      min_weight_fraction_leaf=0.0, n_estimators=10,\n",
              "                      n_jobs=None, oob_score=False, random_state=None,\n",
              "                      verbose=0, warm_start=False)"
            ]
          },
          "metadata": {
            "tags": []
          },
          "execution_count": 81
        }
      ]
    },
    {
      "cell_type": "code",
      "metadata": {
        "id": "hcCg5rw5Elqz",
        "colab_type": "code",
        "outputId": "5937a0fb-1100-4bfb-c640-987d2ae8829b",
        "colab": {
          "base_uri": "https://localhost:8080/",
          "height": 52
        }
      },
      "source": [
        "reg.feature_importances_"
      ],
      "execution_count": 0,
      "outputs": [
        {
          "output_type": "execute_result",
          "data": {
            "text/plain": [
              "array([0.35915304, 0.2247919 , 0.06588476, 0.0658177 , 0.17350899,\n",
              "       0.11084361])"
            ]
          },
          "metadata": {
            "tags": []
          },
          "execution_count": 82
        }
      ]
    },
    {
      "cell_type": "code",
      "metadata": {
        "id": "jlI-35h7g1c0",
        "colab_type": "code",
        "outputId": "48bdb8de-12cf-463f-9040-2771e2c1d716",
        "colab": {
          "base_uri": "https://localhost:8080/",
          "height": 34
        }
      },
      "source": [
        "from sklearn.metrics import mean_absolute_error\n",
        "predictions = reg.predict(X_test)\n",
        "print(\"Mean Absolute Error: \" + str(mean_absolute_error(predictions, y_test)))"
      ],
      "execution_count": 0,
      "outputs": [
        {
          "output_type": "stream",
          "text": [
            "Mean Absolute Error: 11.191438356164385\n"
          ],
          "name": "stdout"
        }
      ]
    },
    {
      "cell_type": "code",
      "metadata": {
        "id": "cOEWrSuKARso",
        "colab_type": "code",
        "outputId": "5fdaedad-a0db-4ff2-d0e7-9cf345c9eb25",
        "colab": {
          "base_uri": "https://localhost:8080/",
          "height": 156
        }
      },
      "source": [
        "from xgboost import XGBRegressor\n",
        "my_model = XGBRegressor(learning_rate=0.1,subsample=0.75,max_depth=6)\n",
        "my_model.fit(X_train, y_train)"
      ],
      "execution_count": 0,
      "outputs": [
        {
          "output_type": "stream",
          "text": [
            "[17:59:04] WARNING: /workspace/src/objective/regression_obj.cu:152: reg:linear is now deprecated in favor of reg:squarederror.\n"
          ],
          "name": "stdout"
        },
        {
          "output_type": "execute_result",
          "data": {
            "text/plain": [
              "XGBRegressor(base_score=0.5, booster='gbtree', colsample_bylevel=1,\n",
              "             colsample_bynode=1, colsample_bytree=1, gamma=0,\n",
              "             importance_type='gain', learning_rate=0.1, max_delta_step=0,\n",
              "             max_depth=6, min_child_weight=1, missing=None, n_estimators=100,\n",
              "             n_jobs=1, nthread=None, objective='reg:linear', random_state=0,\n",
              "             reg_alpha=0, reg_lambda=1, scale_pos_weight=1, seed=None,\n",
              "             silent=None, subsample=0.75, verbosity=1)"
            ]
          },
          "metadata": {
            "tags": []
          },
          "execution_count": 84
        }
      ]
    },
    {
      "cell_type": "code",
      "metadata": {
        "id": "sUwfSYkwAWzC",
        "colab_type": "code",
        "outputId": "396ad361-9ac3-4f9f-897d-aafe68e41088",
        "colab": {
          "base_uri": "https://localhost:8080/",
          "height": 34
        }
      },
      "source": [
        "from sklearn.metrics import mean_absolute_error\n",
        "predictions = my_model.predict(X_test)\n",
        "print(\"Mean Absolute Error: \" + str(mean_absolute_error(predictions, y_test)))"
      ],
      "execution_count": 0,
      "outputs": [
        {
          "output_type": "stream",
          "text": [
            "Mean Absolute Error: 10.132043523229148\n"
          ],
          "name": "stdout"
        }
      ]
    },
    {
      "cell_type": "code",
      "metadata": {
        "id": "1LkkBQUIAc5n",
        "colab_type": "code",
        "outputId": "503c398f-692d-4f66-9dbe-e1acdeac6934",
        "colab": {
          "base_uri": "https://localhost:8080/",
          "height": 244
        }
      },
      "source": [
        "model_full=XGBRegressor(learning_rate=0.1,subsample=0.75,max_depth=6)\n",
        "model_full.fit(X,y)\n",
        "x_test=x_test[features]\n",
        "x.head()\n",
        "x_test.head()"
      ],
      "execution_count": 0,
      "outputs": [
        {
          "output_type": "stream",
          "text": [
            "[17:59:05] WARNING: /workspace/src/objective/regression_obj.cu:152: reg:linear is now deprecated in favor of reg:squarederror.\n"
          ],
          "name": "stdout"
        },
        {
          "output_type": "execute_result",
          "data": {
            "text/html": [
              "<div>\n",
              "<style scoped>\n",
              "    .dataframe tbody tr th:only-of-type {\n",
              "        vertical-align: middle;\n",
              "    }\n",
              "\n",
              "    .dataframe tbody tr th {\n",
              "        vertical-align: top;\n",
              "    }\n",
              "\n",
              "    .dataframe thead th {\n",
              "        text-align: right;\n",
              "    }\n",
              "</style>\n",
              "<table border=\"1\" class=\"dataframe\">\n",
              "  <thead>\n",
              "    <tr style=\"text-align: right;\">\n",
              "      <th></th>\n",
              "      <th>city</th>\n",
              "      <th>year</th>\n",
              "      <th>weekofyear</th>\n",
              "      <th>ndvi_se</th>\n",
              "      <th>station_avg_temp_c</th>\n",
              "      <th>ndvi_sw</th>\n",
              "      <th>reanalysis_dew_point_temp_k</th>\n",
              "      <th>reanalysis_air_temp_k</th>\n",
              "      <th>ndvi_ne</th>\n",
              "      <th>reanalysis_max_air_temp_k</th>\n",
              "      <th>reanalysis_min_air_temp_k</th>\n",
              "      <th>ndvi_nw</th>\n",
              "      <th>reanalysis_tdtr_k</th>\n",
              "      <th>precipitation_amt_mm</th>\n",
              "      <th>reanalysis_precip_amt_kg_per_m2</th>\n",
              "      <th>station_precip_mm</th>\n",
              "    </tr>\n",
              "  </thead>\n",
              "  <tbody>\n",
              "    <tr>\n",
              "      <th>0</th>\n",
              "      <td>sj</td>\n",
              "      <td>2008</td>\n",
              "      <td>18</td>\n",
              "      <td>0.102729</td>\n",
              "      <td>26.528571</td>\n",
              "      <td>0.091200</td>\n",
              "      <td>294.527143</td>\n",
              "      <td>298.492857</td>\n",
              "      <td>-0.0189</td>\n",
              "      <td>301.1</td>\n",
              "      <td>296.4</td>\n",
              "      <td>-0.018900</td>\n",
              "      <td>3.128571</td>\n",
              "      <td>78.60</td>\n",
              "      <td>25.37</td>\n",
              "      <td>75.2</td>\n",
              "    </tr>\n",
              "    <tr>\n",
              "      <th>1</th>\n",
              "      <td>sj</td>\n",
              "      <td>2008</td>\n",
              "      <td>19</td>\n",
              "      <td>0.082043</td>\n",
              "      <td>26.071429</td>\n",
              "      <td>0.072314</td>\n",
              "      <td>294.395714</td>\n",
              "      <td>298.475714</td>\n",
              "      <td>-0.0180</td>\n",
              "      <td>300.8</td>\n",
              "      <td>296.7</td>\n",
              "      <td>-0.012400</td>\n",
              "      <td>2.571429</td>\n",
              "      <td>12.56</td>\n",
              "      <td>21.83</td>\n",
              "      <td>34.3</td>\n",
              "    </tr>\n",
              "    <tr>\n",
              "      <th>2</th>\n",
              "      <td>sj</td>\n",
              "      <td>2008</td>\n",
              "      <td>20</td>\n",
              "      <td>0.151083</td>\n",
              "      <td>27.928571</td>\n",
              "      <td>0.091529</td>\n",
              "      <td>295.308571</td>\n",
              "      <td>299.455714</td>\n",
              "      <td>-0.0015</td>\n",
              "      <td>302.2</td>\n",
              "      <td>296.4</td>\n",
              "      <td>-0.012400</td>\n",
              "      <td>4.428571</td>\n",
              "      <td>3.66</td>\n",
              "      <td>4.12</td>\n",
              "      <td>3.0</td>\n",
              "    </tr>\n",
              "    <tr>\n",
              "      <th>3</th>\n",
              "      <td>sj</td>\n",
              "      <td>2008</td>\n",
              "      <td>21</td>\n",
              "      <td>0.124329</td>\n",
              "      <td>28.057143</td>\n",
              "      <td>0.125686</td>\n",
              "      <td>294.402857</td>\n",
              "      <td>299.690000</td>\n",
              "      <td>-0.0015</td>\n",
              "      <td>303.0</td>\n",
              "      <td>296.9</td>\n",
              "      <td>-0.019867</td>\n",
              "      <td>4.342857</td>\n",
              "      <td>0.00</td>\n",
              "      <td>2.20</td>\n",
              "      <td>0.3</td>\n",
              "    </tr>\n",
              "    <tr>\n",
              "      <th>4</th>\n",
              "      <td>sj</td>\n",
              "      <td>2008</td>\n",
              "      <td>22</td>\n",
              "      <td>0.062267</td>\n",
              "      <td>27.614286</td>\n",
              "      <td>0.075914</td>\n",
              "      <td>294.760000</td>\n",
              "      <td>299.780000</td>\n",
              "      <td>0.0568</td>\n",
              "      <td>302.3</td>\n",
              "      <td>297.3</td>\n",
              "      <td>0.039833</td>\n",
              "      <td>3.542857</td>\n",
              "      <td>0.76</td>\n",
              "      <td>4.36</td>\n",
              "      <td>84.1</td>\n",
              "    </tr>\n",
              "  </tbody>\n",
              "</table>\n",
              "</div>"
            ],
            "text/plain": [
              "  city  year  ...  reanalysis_precip_amt_kg_per_m2  station_precip_mm\n",
              "0   sj  2008  ...                            25.37               75.2\n",
              "1   sj  2008  ...                            21.83               34.3\n",
              "2   sj  2008  ...                             4.12                3.0\n",
              "3   sj  2008  ...                             2.20                0.3\n",
              "4   sj  2008  ...                             4.36               84.1\n",
              "\n",
              "[5 rows x 16 columns]"
            ]
          },
          "metadata": {
            "tags": []
          },
          "execution_count": 86
        }
      ]
    },
    {
      "cell_type": "code",
      "metadata": {
        "id": "XYF4EXKNX_Y8",
        "colab_type": "code",
        "outputId": "e6216071-37fe-4c52-9034-10a2fb5550f7",
        "colab": {
          "base_uri": "https://localhost:8080/",
          "height": 573
        }
      },
      "source": [
        "X.info()\n",
        "x_test.info()"
      ],
      "execution_count": 0,
      "outputs": [
        {
          "output_type": "stream",
          "text": [
            "<class 'pandas.core.frame.DataFrame'>\n",
            "RangeIndex: 1456 entries, 0 to 1455\n",
            "Data columns (total 6 columns):\n",
            "year                           1456 non-null int64\n",
            "weekofyear                     1456 non-null int64\n",
            "station_avg_temp_c             1456 non-null float64\n",
            "reanalysis_dew_point_temp_k    1456 non-null float64\n",
            "ndvi_ne                        1456 non-null float64\n",
            "reanalysis_tdtr_k              1456 non-null float64\n",
            "dtypes: float64(4), int64(2)\n",
            "memory usage: 68.3 KB\n",
            "<class 'pandas.core.frame.DataFrame'>\n",
            "RangeIndex: 416 entries, 0 to 415\n",
            "Data columns (total 16 columns):\n",
            "city                               416 non-null object\n",
            "year                               416 non-null int64\n",
            "weekofyear                         416 non-null int64\n",
            "ndvi_se                            416 non-null float64\n",
            "station_avg_temp_c                 416 non-null float64\n",
            "ndvi_sw                            416 non-null float64\n",
            "reanalysis_dew_point_temp_k        416 non-null float64\n",
            "reanalysis_air_temp_k              416 non-null float64\n",
            "ndvi_ne                            416 non-null float64\n",
            "reanalysis_max_air_temp_k          416 non-null float64\n",
            "reanalysis_min_air_temp_k          416 non-null float64\n",
            "ndvi_nw                            416 non-null float64\n",
            "reanalysis_tdtr_k                  416 non-null float64\n",
            "precipitation_amt_mm               416 non-null float64\n",
            "reanalysis_precip_amt_kg_per_m2    416 non-null float64\n",
            "station_precip_mm                  416 non-null float64\n",
            "dtypes: float64(13), int64(2), object(1)\n",
            "memory usage: 52.1+ KB\n"
          ],
          "name": "stdout"
        }
      ]
    },
    {
      "cell_type": "code",
      "metadata": {
        "id": "BtEBlXTHYSqv",
        "colab_type": "code",
        "colab": {}
      },
      "source": [
        "x_test['city1']=np.where(x_test['city']=='sj',1,-1)\n",
        "x_test.drop(columns='city',inplace=True)"
      ],
      "execution_count": 0,
      "outputs": []
    },
    {
      "cell_type": "code",
      "metadata": {
        "id": "jRdhorbAYc97",
        "colab_type": "code",
        "outputId": "b9e5f6c2-0a1d-4154-d173-5620fcd9bf3e",
        "colab": {
          "base_uri": "https://localhost:8080/",
          "height": 382
        }
      },
      "source": [
        "x_test.info()"
      ],
      "execution_count": 0,
      "outputs": [
        {
          "output_type": "stream",
          "text": [
            "<class 'pandas.core.frame.DataFrame'>\n",
            "RangeIndex: 416 entries, 0 to 415\n",
            "Data columns (total 16 columns):\n",
            "year                               416 non-null int64\n",
            "weekofyear                         416 non-null int64\n",
            "ndvi_se                            416 non-null float64\n",
            "station_avg_temp_c                 416 non-null float64\n",
            "ndvi_sw                            416 non-null float64\n",
            "reanalysis_dew_point_temp_k        416 non-null float64\n",
            "reanalysis_air_temp_k              416 non-null float64\n",
            "ndvi_ne                            416 non-null float64\n",
            "reanalysis_max_air_temp_k          416 non-null float64\n",
            "reanalysis_min_air_temp_k          416 non-null float64\n",
            "ndvi_nw                            416 non-null float64\n",
            "reanalysis_tdtr_k                  416 non-null float64\n",
            "precipitation_amt_mm               416 non-null float64\n",
            "reanalysis_precip_amt_kg_per_m2    416 non-null float64\n",
            "station_precip_mm                  416 non-null float64\n",
            "city1                              416 non-null int64\n",
            "dtypes: float64(13), int64(3)\n",
            "memory usage: 52.1 KB\n"
          ],
          "name": "stdout"
        }
      ]
    },
    {
      "cell_type": "code",
      "metadata": {
        "id": "H70cyUFWYfJo",
        "colab_type": "code",
        "outputId": "b6b87927-d536-4fb5-d416-bf2b1d3237b0",
        "colab": {
          "base_uri": "https://localhost:8080/",
          "height": 402
        }
      },
      "source": [
        "test_pred=model_full.predict(x_test).astype(int)\n",
        "submission=pd.read_csv('https://s3.amazonaws.com/drivendata/data/44/public/submission_format.csv',index_col=[0,1,2])\n",
        "submission.total_cases=test_pred\n",
        "submission.to_csv('values.csv')"
      ],
      "execution_count": 0,
      "outputs": [
        {
          "output_type": "error",
          "ename": "ValueError",
          "evalue": "ignored",
          "traceback": [
            "\u001b[0;31m---------------------------------------------------------------------------\u001b[0m",
            "\u001b[0;31mValueError\u001b[0m                                Traceback (most recent call last)",
            "\u001b[0;32m<ipython-input-90-ea52112ffa34>\u001b[0m in \u001b[0;36m<module>\u001b[0;34m()\u001b[0m\n\u001b[0;32m----> 1\u001b[0;31m \u001b[0mtest_pred\u001b[0m\u001b[0;34m=\u001b[0m\u001b[0mmodel_full\u001b[0m\u001b[0;34m.\u001b[0m\u001b[0mpredict\u001b[0m\u001b[0;34m(\u001b[0m\u001b[0mx_test\u001b[0m\u001b[0;34m)\u001b[0m\u001b[0;34m.\u001b[0m\u001b[0mastype\u001b[0m\u001b[0;34m(\u001b[0m\u001b[0mint\u001b[0m\u001b[0;34m)\u001b[0m\u001b[0;34m\u001b[0m\u001b[0;34m\u001b[0m\u001b[0m\n\u001b[0m\u001b[1;32m      2\u001b[0m \u001b[0msubmission\u001b[0m\u001b[0;34m=\u001b[0m\u001b[0mpd\u001b[0m\u001b[0;34m.\u001b[0m\u001b[0mread_csv\u001b[0m\u001b[0;34m(\u001b[0m\u001b[0;34m'https://s3.amazonaws.com/drivendata/data/44/public/submission_format.csv'\u001b[0m\u001b[0;34m,\u001b[0m\u001b[0mindex_col\u001b[0m\u001b[0;34m=\u001b[0m\u001b[0;34m[\u001b[0m\u001b[0;36m0\u001b[0m\u001b[0;34m,\u001b[0m\u001b[0;36m1\u001b[0m\u001b[0;34m,\u001b[0m\u001b[0;36m2\u001b[0m\u001b[0;34m]\u001b[0m\u001b[0;34m)\u001b[0m\u001b[0;34m\u001b[0m\u001b[0;34m\u001b[0m\u001b[0m\n\u001b[1;32m      3\u001b[0m \u001b[0msubmission\u001b[0m\u001b[0;34m.\u001b[0m\u001b[0mtotal_cases\u001b[0m\u001b[0;34m=\u001b[0m\u001b[0mtest_pred\u001b[0m\u001b[0;34m\u001b[0m\u001b[0;34m\u001b[0m\u001b[0m\n\u001b[1;32m      4\u001b[0m \u001b[0msubmission\u001b[0m\u001b[0;34m.\u001b[0m\u001b[0mto_csv\u001b[0m\u001b[0;34m(\u001b[0m\u001b[0;34m'values.csv'\u001b[0m\u001b[0;34m)\u001b[0m\u001b[0;34m\u001b[0m\u001b[0;34m\u001b[0m\u001b[0m\n",
            "\u001b[0;32m/usr/local/lib/python3.6/dist-packages/xgboost/sklearn.py\u001b[0m in \u001b[0;36mpredict\u001b[0;34m(self, data, output_margin, ntree_limit, validate_features)\u001b[0m\n\u001b[1;32m    454\u001b[0m                                           \u001b[0moutput_margin\u001b[0m\u001b[0;34m=\u001b[0m\u001b[0moutput_margin\u001b[0m\u001b[0;34m,\u001b[0m\u001b[0;34m\u001b[0m\u001b[0;34m\u001b[0m\u001b[0m\n\u001b[1;32m    455\u001b[0m                                           \u001b[0mntree_limit\u001b[0m\u001b[0;34m=\u001b[0m\u001b[0mntree_limit\u001b[0m\u001b[0;34m,\u001b[0m\u001b[0;34m\u001b[0m\u001b[0;34m\u001b[0m\u001b[0m\n\u001b[0;32m--> 456\u001b[0;31m                                           validate_features=validate_features)\n\u001b[0m\u001b[1;32m    457\u001b[0m \u001b[0;34m\u001b[0m\u001b[0m\n\u001b[1;32m    458\u001b[0m     \u001b[0;32mdef\u001b[0m \u001b[0mapply\u001b[0m\u001b[0;34m(\u001b[0m\u001b[0mself\u001b[0m\u001b[0;34m,\u001b[0m \u001b[0mX\u001b[0m\u001b[0;34m,\u001b[0m \u001b[0mntree_limit\u001b[0m\u001b[0;34m=\u001b[0m\u001b[0;36m0\u001b[0m\u001b[0;34m)\u001b[0m\u001b[0;34m:\u001b[0m\u001b[0;34m\u001b[0m\u001b[0;34m\u001b[0m\u001b[0m\n",
            "\u001b[0;32m/usr/local/lib/python3.6/dist-packages/xgboost/core.py\u001b[0m in \u001b[0;36mpredict\u001b[0;34m(self, data, output_margin, ntree_limit, pred_leaf, pred_contribs, approx_contribs, pred_interactions, validate_features)\u001b[0m\n\u001b[1;32m   1282\u001b[0m \u001b[0;34m\u001b[0m\u001b[0m\n\u001b[1;32m   1283\u001b[0m         \u001b[0;32mif\u001b[0m \u001b[0mvalidate_features\u001b[0m\u001b[0;34m:\u001b[0m\u001b[0;34m\u001b[0m\u001b[0;34m\u001b[0m\u001b[0m\n\u001b[0;32m-> 1284\u001b[0;31m             \u001b[0mself\u001b[0m\u001b[0;34m.\u001b[0m\u001b[0m_validate_features\u001b[0m\u001b[0;34m(\u001b[0m\u001b[0mdata\u001b[0m\u001b[0;34m)\u001b[0m\u001b[0;34m\u001b[0m\u001b[0;34m\u001b[0m\u001b[0m\n\u001b[0m\u001b[1;32m   1285\u001b[0m \u001b[0;34m\u001b[0m\u001b[0m\n\u001b[1;32m   1286\u001b[0m         \u001b[0mlength\u001b[0m \u001b[0;34m=\u001b[0m \u001b[0mc_bst_ulong\u001b[0m\u001b[0;34m(\u001b[0m\u001b[0;34m)\u001b[0m\u001b[0;34m\u001b[0m\u001b[0;34m\u001b[0m\u001b[0m\n",
            "\u001b[0;32m/usr/local/lib/python3.6/dist-packages/xgboost/core.py\u001b[0m in \u001b[0;36m_validate_features\u001b[0;34m(self, data)\u001b[0m\n\u001b[1;32m   1688\u001b[0m \u001b[0;34m\u001b[0m\u001b[0m\n\u001b[1;32m   1689\u001b[0m                 raise ValueError(msg.format(self.feature_names,\n\u001b[0;32m-> 1690\u001b[0;31m                                             data.feature_names))\n\u001b[0m\u001b[1;32m   1691\u001b[0m \u001b[0;34m\u001b[0m\u001b[0m\n\u001b[1;32m   1692\u001b[0m     \u001b[0;32mdef\u001b[0m \u001b[0mget_split_value_histogram\u001b[0m\u001b[0;34m(\u001b[0m\u001b[0mself\u001b[0m\u001b[0;34m,\u001b[0m \u001b[0mfeature\u001b[0m\u001b[0;34m,\u001b[0m \u001b[0mfmap\u001b[0m\u001b[0;34m=\u001b[0m\u001b[0;34m''\u001b[0m\u001b[0;34m,\u001b[0m \u001b[0mbins\u001b[0m\u001b[0;34m=\u001b[0m\u001b[0;32mNone\u001b[0m\u001b[0;34m,\u001b[0m \u001b[0mas_pandas\u001b[0m\u001b[0;34m=\u001b[0m\u001b[0;32mTrue\u001b[0m\u001b[0;34m)\u001b[0m\u001b[0;34m:\u001b[0m\u001b[0;34m\u001b[0m\u001b[0;34m\u001b[0m\u001b[0m\n",
            "\u001b[0;31mValueError\u001b[0m: feature_names mismatch: ['year', 'weekofyear', 'station_avg_temp_c', 'reanalysis_dew_point_temp_k', 'ndvi_ne', 'reanalysis_tdtr_k'] ['year', 'weekofyear', 'ndvi_se', 'station_avg_temp_c', 'ndvi_sw', 'reanalysis_dew_point_temp_k', 'reanalysis_air_temp_k', 'ndvi_ne', 'reanalysis_max_air_temp_k', 'reanalysis_min_air_temp_k', 'ndvi_nw', 'reanalysis_tdtr_k', 'precipitation_amt_mm', 'reanalysis_precip_amt_kg_per_m2', 'station_precip_mm', 'city1']\ntraining data did not have the following fields: reanalysis_air_temp_k, reanalysis_precip_amt_kg_per_m2, ndvi_nw, precipitation_amt_mm, station_precip_mm, ndvi_sw, city1, ndvi_se, reanalysis_max_air_temp_k, reanalysis_min_air_temp_k"
          ]
        }
      ]
    },
    {
      "cell_type": "code",
      "metadata": {
        "id": "PC8wESEHY8HE",
        "colab_type": "code",
        "colab": {}
      },
      "source": [
        ""
      ],
      "execution_count": 0,
      "outputs": []
    }
  ]
}