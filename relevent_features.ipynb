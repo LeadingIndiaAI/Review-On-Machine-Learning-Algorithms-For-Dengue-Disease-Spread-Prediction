{
  "nbformat": 4,
  "nbformat_minor": 0,
  "metadata": {
    "colab": {
      "name": "relevent_features.ipynb",
      "version": "0.3.2",
      "provenance": [],
      "collapsed_sections": []
    },
    "kernelspec": {
      "name": "python3",
      "display_name": "Python 3"
    },
    "accelerator": "GPU"
  },
  "cells": [
    {
      "cell_type": "code",
      "metadata": {
        "id": "n5oInnkZwjwm",
        "colab_type": "code",
        "colab": {}
      },
      "source": [
        "import numpy as np\n",
        "import pandas as pd\n",
        "import matplotlib.pyplot as plt\n",
        "import seaborn as sns\n",
        "%matplotlib inline"
      ],
      "execution_count": 0,
      "outputs": []
    },
    {
      "cell_type": "code",
      "metadata": {
        "id": "hLVN_Ave_c2-",
        "colab_type": "code",
        "colab": {}
      },
      "source": [
        ""
      ],
      "execution_count": 0,
      "outputs": []
    },
    {
      "cell_type": "code",
      "metadata": {
        "id": "1wzEF7p8wlMT",
        "colab_type": "code",
        "colab": {}
      },
      "source": [
        "x=pd.read_csv('https://s3.amazonaws.com/drivendata/data/44/public/dengue_features_train.csv')\n",
        "y=pd.read_csv('https://s3.amazonaws.com/drivendata/data/44/public/dengue_labels_train.csv')\n",
        "x_test=pd.read_csv('https://s3.amazonaws.com/drivendata/data/44/public/dengue_features_test.csv')\n",
        "submission_file=pd.read_csv('https://s3.amazonaws.com/drivendata/data/44/public/submission_format.csv')"
      ],
      "execution_count": 0,
      "outputs": []
    },
    {
      "cell_type": "code",
      "metadata": {
        "id": "qRivwzaAwwmc",
        "colab_type": "code",
        "outputId": "f5d25510-0885-490e-c783-af126dc9a53e",
        "colab": {
          "base_uri": "https://localhost:8080/",
          "height": 521
        }
      },
      "source": [
        "x.fillna(method='ffill', inplace=True)\n",
        "x_test.fillna(method='ffill', inplace=True)\n",
        "x.info()"
      ],
      "execution_count": 3,
      "outputs": [
        {
          "output_type": "stream",
          "text": [
            "<class 'pandas.core.frame.DataFrame'>\n",
            "RangeIndex: 1456 entries, 0 to 1455\n",
            "Data columns (total 24 columns):\n",
            "city                                     1456 non-null object\n",
            "year                                     1456 non-null int64\n",
            "weekofyear                               1456 non-null int64\n",
            "week_start_date                          1456 non-null object\n",
            "ndvi_ne                                  1456 non-null float64\n",
            "ndvi_nw                                  1456 non-null float64\n",
            "ndvi_se                                  1456 non-null float64\n",
            "ndvi_sw                                  1456 non-null float64\n",
            "precipitation_amt_mm                     1456 non-null float64\n",
            "reanalysis_air_temp_k                    1456 non-null float64\n",
            "reanalysis_avg_temp_k                    1456 non-null float64\n",
            "reanalysis_dew_point_temp_k              1456 non-null float64\n",
            "reanalysis_max_air_temp_k                1456 non-null float64\n",
            "reanalysis_min_air_temp_k                1456 non-null float64\n",
            "reanalysis_precip_amt_kg_per_m2          1456 non-null float64\n",
            "reanalysis_relative_humidity_percent     1456 non-null float64\n",
            "reanalysis_sat_precip_amt_mm             1456 non-null float64\n",
            "reanalysis_specific_humidity_g_per_kg    1456 non-null float64\n",
            "reanalysis_tdtr_k                        1456 non-null float64\n",
            "station_avg_temp_c                       1456 non-null float64\n",
            "station_diur_temp_rng_c                  1456 non-null float64\n",
            "station_max_temp_c                       1456 non-null float64\n",
            "station_min_temp_c                       1456 non-null float64\n",
            "station_precip_mm                        1456 non-null float64\n",
            "dtypes: float64(20), int64(2), object(2)\n",
            "memory usage: 273.1+ KB\n"
          ],
          "name": "stdout"
        }
      ]
    },
    {
      "cell_type": "code",
      "metadata": {
        "id": "MICvQ6zF7BXH",
        "colab_type": "code",
        "colab": {}
      },
      "source": [
        "features=['city','year','weekofyear','ndvi_se','station_avg_temp_c','ndvi_sw','reanalysis_dew_point_temp_k','reanalysis_air_temp_k','ndvi_ne','reanalysis_max_air_temp_k','reanalysis_min_air_temp_k','ndvi_nw','reanalysis_tdtr_k','precipitation_amt_mm','reanalysis_precip_amt_kg_per_m2','station_precip_mm']"
      ],
      "execution_count": 0,
      "outputs": []
    },
    {
      "cell_type": "code",
      "metadata": {
        "id": "QQPZ_0r_7MAD",
        "colab_type": "code",
        "outputId": "f3a3f26c-446c-4b2e-dd45-c40055a2fb29",
        "colab": {
          "base_uri": "https://localhost:8080/",
          "height": 382
        }
      },
      "source": [
        "X=x[features]\n",
        "X.info()"
      ],
      "execution_count": 5,
      "outputs": [
        {
          "output_type": "stream",
          "text": [
            "<class 'pandas.core.frame.DataFrame'>\n",
            "RangeIndex: 1456 entries, 0 to 1455\n",
            "Data columns (total 16 columns):\n",
            "city                               1456 non-null object\n",
            "year                               1456 non-null int64\n",
            "weekofyear                         1456 non-null int64\n",
            "ndvi_se                            1456 non-null float64\n",
            "station_avg_temp_c                 1456 non-null float64\n",
            "ndvi_sw                            1456 non-null float64\n",
            "reanalysis_dew_point_temp_k        1456 non-null float64\n",
            "reanalysis_air_temp_k              1456 non-null float64\n",
            "ndvi_ne                            1456 non-null float64\n",
            "reanalysis_max_air_temp_k          1456 non-null float64\n",
            "reanalysis_min_air_temp_k          1456 non-null float64\n",
            "ndvi_nw                            1456 non-null float64\n",
            "reanalysis_tdtr_k                  1456 non-null float64\n",
            "precipitation_amt_mm               1456 non-null float64\n",
            "reanalysis_precip_amt_kg_per_m2    1456 non-null float64\n",
            "station_precip_mm                  1456 non-null float64\n",
            "dtypes: float64(13), int64(2), object(1)\n",
            "memory usage: 182.1+ KB\n"
          ],
          "name": "stdout"
        }
      ]
    },
    {
      "cell_type": "code",
      "metadata": {
        "id": "-ddUNjmL7aIp",
        "colab_type": "code",
        "colab": {
          "base_uri": "https://localhost:8080/",
          "height": 208
        },
        "outputId": "92b4baf5-9e16-41ac-e3fc-788f54b4eac3"
      },
      "source": [
        "X['city1']=np.where(X['city']=='sj',1,-1)\n",
        "X.drop(columns='city',inplace=True)"
      ],
      "execution_count": 6,
      "outputs": [
        {
          "output_type": "stream",
          "text": [
            "/usr/local/lib/python3.6/dist-packages/ipykernel_launcher.py:1: SettingWithCopyWarning: \n",
            "A value is trying to be set on a copy of a slice from a DataFrame.\n",
            "Try using .loc[row_indexer,col_indexer] = value instead\n",
            "\n",
            "See the caveats in the documentation: http://pandas.pydata.org/pandas-docs/stable/indexing.html#indexing-view-versus-copy\n",
            "  \"\"\"Entry point for launching an IPython kernel.\n",
            "/usr/local/lib/python3.6/dist-packages/pandas/core/frame.py:3940: SettingWithCopyWarning: \n",
            "A value is trying to be set on a copy of a slice from a DataFrame\n",
            "\n",
            "See the caveats in the documentation: http://pandas.pydata.org/pandas-docs/stable/indexing.html#indexing-view-versus-copy\n",
            "  errors=errors)\n"
          ],
          "name": "stderr"
        }
      ]
    },
    {
      "cell_type": "code",
      "metadata": {
        "id": "CDmfICBc_YXf",
        "colab_type": "code",
        "colab": {
          "base_uri": "https://localhost:8080/",
          "height": 382
        },
        "outputId": "f8644b9e-fd70-4e32-b227-154853896e30"
      },
      "source": [
        "X.info()"
      ],
      "execution_count": 7,
      "outputs": [
        {
          "output_type": "stream",
          "text": [
            "<class 'pandas.core.frame.DataFrame'>\n",
            "RangeIndex: 1456 entries, 0 to 1455\n",
            "Data columns (total 16 columns):\n",
            "year                               1456 non-null int64\n",
            "weekofyear                         1456 non-null int64\n",
            "ndvi_se                            1456 non-null float64\n",
            "station_avg_temp_c                 1456 non-null float64\n",
            "ndvi_sw                            1456 non-null float64\n",
            "reanalysis_dew_point_temp_k        1456 non-null float64\n",
            "reanalysis_air_temp_k              1456 non-null float64\n",
            "ndvi_ne                            1456 non-null float64\n",
            "reanalysis_max_air_temp_k          1456 non-null float64\n",
            "reanalysis_min_air_temp_k          1456 non-null float64\n",
            "ndvi_nw                            1456 non-null float64\n",
            "reanalysis_tdtr_k                  1456 non-null float64\n",
            "precipitation_amt_mm               1456 non-null float64\n",
            "reanalysis_precip_amt_kg_per_m2    1456 non-null float64\n",
            "station_precip_mm                  1456 non-null float64\n",
            "city1                              1456 non-null int64\n",
            "dtypes: float64(13), int64(3)\n",
            "memory usage: 182.1 KB\n"
          ],
          "name": "stdout"
        }
      ]
    },
    {
      "cell_type": "code",
      "metadata": {
        "id": "Pm6k_0_G_lU_",
        "colab_type": "code",
        "colab": {}
      },
      "source": [
        "y.drop(columns='city',inplace=True)\n",
        "y.drop(columns='year',inplace=True)\n",
        "y.drop(columns='weekofyear',inplace=True)"
      ],
      "execution_count": 0,
      "outputs": []
    },
    {
      "cell_type": "code",
      "metadata": {
        "id": "fyn3sgivALuu",
        "colab_type": "code",
        "colab": {
          "base_uri": "https://localhost:8080/",
          "height": 121
        },
        "outputId": "1fbaa47c-6827-4064-8e7b-62b08fd298f3"
      },
      "source": [
        "y.info()"
      ],
      "execution_count": 9,
      "outputs": [
        {
          "output_type": "stream",
          "text": [
            "<class 'pandas.core.frame.DataFrame'>\n",
            "RangeIndex: 1456 entries, 0 to 1455\n",
            "Data columns (total 1 columns):\n",
            "total_cases    1456 non-null int64\n",
            "dtypes: int64(1)\n",
            "memory usage: 11.5 KB\n"
          ],
          "name": "stdout"
        }
      ]
    },
    {
      "cell_type": "code",
      "metadata": {
        "id": "rhx6xb3yANVD",
        "colab_type": "code",
        "colab": {}
      },
      "source": [
        "from sklearn.model_selection import train_test_split\n",
        "seed = 5\n",
        "test_size = 0.3\n",
        "X_train, X_test, y_train, y_test = train_test_split(X, y, test_size=test_size, random_state=seed)"
      ],
      "execution_count": 0,
      "outputs": []
    },
    {
      "cell_type": "code",
      "metadata": {
        "id": "cOEWrSuKARso",
        "colab_type": "code",
        "colab": {
          "base_uri": "https://localhost:8080/",
          "height": 156
        },
        "outputId": "ae4edabd-6708-4a05-f458-9f42aa679aa7"
      },
      "source": [
        "from xgboost import XGBRegressor\n",
        "my_model = XGBRegressor()\n",
        "my_model.fit(X_train, y_train)"
      ],
      "execution_count": 12,
      "outputs": [
        {
          "output_type": "stream",
          "text": [
            "[04:13:54] WARNING: /workspace/src/objective/regression_obj.cu:152: reg:linear is now deprecated in favor of reg:squarederror.\n"
          ],
          "name": "stdout"
        },
        {
          "output_type": "execute_result",
          "data": {
            "text/plain": [
              "XGBRegressor(base_score=0.5, booster='gbtree', colsample_bylevel=1,\n",
              "             colsample_bynode=1, colsample_bytree=1, gamma=0,\n",
              "             importance_type='gain', learning_rate=0.1, max_delta_step=0,\n",
              "             max_depth=3, min_child_weight=1, missing=None, n_estimators=100,\n",
              "             n_jobs=1, nthread=None, objective='reg:linear', random_state=0,\n",
              "             reg_alpha=0, reg_lambda=1, scale_pos_weight=1, seed=None,\n",
              "             silent=None, subsample=1, verbosity=1)"
            ]
          },
          "metadata": {
            "tags": []
          },
          "execution_count": 12
        }
      ]
    },
    {
      "cell_type": "code",
      "metadata": {
        "id": "sUwfSYkwAWzC",
        "colab_type": "code",
        "colab": {
          "base_uri": "https://localhost:8080/",
          "height": 34
        },
        "outputId": "37326bf8-83b4-4f0e-be60-18ba0013dba2"
      },
      "source": [
        "from sklearn.metrics import mean_absolute_error\n",
        "predictions = my_model.predict(X_test)\n",
        "print(\"Mean Absolute Error: \" + str(mean_absolute_error(predictions, y_test)))"
      ],
      "execution_count": 13,
      "outputs": [
        {
          "output_type": "stream",
          "text": [
            "Mean Absolute Error: 12.075520855883985\n"
          ],
          "name": "stdout"
        }
      ]
    },
    {
      "cell_type": "code",
      "metadata": {
        "id": "1LkkBQUIAc5n",
        "colab_type": "code",
        "colab": {}
      },
      "source": [
        ""
      ],
      "execution_count": 0,
      "outputs": []
    }
  ]
}