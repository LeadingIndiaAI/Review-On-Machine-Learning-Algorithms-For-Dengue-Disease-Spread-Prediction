{
  "nbformat": 4,
  "nbformat_minor": 0,
  "metadata": {
    "colab": {
      "name": "xgboostml.ipynb",
      "version": "0.3.2",
      "provenance": [],
      "collapsed_sections": []
    },
    "kernelspec": {
      "name": "python3",
      "display_name": "Python 3"
    }
  },
  "cells": [
    {
      "cell_type": "code",
      "metadata": {
        "id": "rALTBIOnW7BS",
        "colab_type": "code",
        "colab": {}
      },
      "source": [
        "import numpy as np\n",
        "import pandas as pd\n",
        "import matplotlib.pyplot as plt\n",
        "import seaborn as sns\n",
        "%matplotlib inline"
      ],
      "execution_count": 0,
      "outputs": []
    },
    {
      "cell_type": "code",
      "metadata": {
        "id": "EZoENX3nXAZN",
        "colab_type": "code",
        "colab": {}
      },
      "source": [
        "x=pd.read_csv('https://s3.amazonaws.com/drivendata/data/44/public/dengue_features_train.csv')\n",
        "y=pd.read_csv('https://s3.amazonaws.com/drivendata/data/44/public/dengue_labels_train.csv')\n",
        "x_test=pd.read_csv('https://s3.amazonaws.com/drivendata/data/44/public/dengue_features_test.csv')\n",
        "submission_file=pd.read_csv('https://s3.amazonaws.com/drivendata/data/44/public/submission_format.csv')"
      ],
      "execution_count": 0,
      "outputs": []
    },
    {
      "cell_type": "code",
      "metadata": {
        "id": "rbmi3H6UXDvX",
        "colab_type": "code",
        "colab": {}
      },
      "source": [
        "x.fillna(method='ffill', inplace=True)\n",
        "x_test.fillna(method='ffill', inplace=True)"
      ],
      "execution_count": 0,
      "outputs": []
    },
    {
      "cell_type": "code",
      "metadata": {
        "id": "jsAZCOS6tiU-",
        "colab_type": "code",
        "colab": {}
      },
      "source": [
        "features=['ndvi_ne','year','weekofyear','ndvi_se','ndvi_nw','reanalysis_air_temp_k','precipitation_amt_mm']\n",
        "fe=['year','weekofyear','station_avg_temp_c','reanalysis_dew_point_temp_k','ndvi_ne','reanalysis_tdtr_k']"
      ],
      "execution_count": 0,
      "outputs": []
    },
    {
      "cell_type": "code",
      "metadata": {
        "id": "_QvFVveUXRqE",
        "colab_type": "code",
        "outputId": "542e0dc3-36b1-4a07-bc40-d1bfdb75028c",
        "colab": {
          "base_uri": "https://localhost:8080/",
          "height": 208
        }
      },
      "source": [
        "X=x[fe]\n",
        "X.info()"
      ],
      "execution_count": 0,
      "outputs": [
        {
          "output_type": "stream",
          "text": [
            "<class 'pandas.core.frame.DataFrame'>\n",
            "RangeIndex: 1456 entries, 0 to 1455\n",
            "Data columns (total 6 columns):\n",
            "year                           1456 non-null int64\n",
            "weekofyear                     1456 non-null int64\n",
            "station_avg_temp_c             1456 non-null float64\n",
            "reanalysis_dew_point_temp_k    1456 non-null float64\n",
            "ndvi_ne                        1456 non-null float64\n",
            "reanalysis_tdtr_k              1456 non-null float64\n",
            "dtypes: float64(4), int64(2)\n",
            "memory usage: 68.3 KB\n"
          ],
          "name": "stdout"
        }
      ]
    },
    {
      "cell_type": "code",
      "metadata": {
        "id": "6x3hPaTxXVpZ",
        "colab_type": "code",
        "colab": {}
      },
      "source": [
        "y.drop(columns='city',inplace=True)\n",
        "y.drop(columns='year',inplace=True)\n",
        "y.drop(columns='weekofyear',inplace=True)"
      ],
      "execution_count": 0,
      "outputs": []
    },
    {
      "cell_type": "code",
      "metadata": {
        "id": "4T9o9qvPXaqT",
        "colab_type": "code",
        "colab": {}
      },
      "source": [
        "from sklearn.model_selection import train_test_split\n",
        "seed = 0\n",
        "test_size = 0.2\n",
        "X_train, X_test, y_train, y_test = train_test_split(X, y, test_size=test_size, random_state=seed)"
      ],
      "execution_count": 0,
      "outputs": []
    },
    {
      "cell_type": "code",
      "metadata": {
        "id": "gwIMwrOHXegC",
        "colab_type": "code",
        "outputId": "467089d5-e7f7-492b-ff6e-0836e0014e68",
        "colab": {
          "base_uri": "https://localhost:8080/",
          "height": 156
        }
      },
      "source": [
        "from xgboost import XGBRegressor\n",
        "my_model = XGBRegressor(learning_rate=0.009,n_estimators=1500,subsample=1,max_depth=7,cosample_bytree=1,gamma=1)\n",
        "my_model.fit(X_train, y_train)"
      ],
      "execution_count": 0,
      "outputs": [
        {
          "output_type": "stream",
          "text": [
            "[21:15:20] WARNING: /workspace/src/objective/regression_obj.cu:152: reg:linear is now deprecated in favor of reg:squarederror.\n"
          ],
          "name": "stdout"
        },
        {
          "output_type": "execute_result",
          "data": {
            "text/plain": [
              "XGBRegressor(base_score=0.5, booster='gbtree', colsample_bylevel=1,\n",
              "             colsample_bynode=1, colsample_bytree=1, cosample_bytree=1, gamma=1,\n",
              "             importance_type='gain', learning_rate=0.009, max_delta_step=0,\n",
              "             max_depth=7, min_child_weight=1, missing=None, n_estimators=1500,\n",
              "             n_jobs=1, nthread=None, objective='reg:linear', random_state=0,\n",
              "             reg_alpha=0, reg_lambda=1, scale_pos_weight=1, seed=None,\n",
              "             silent=None, subsample=1, verbosity=1)"
            ]
          },
          "metadata": {
            "tags": []
          },
          "execution_count": 589
        }
      ]
    },
    {
      "cell_type": "code",
      "metadata": {
        "id": "rEolN3f9Xp76",
        "colab_type": "code",
        "outputId": "727f1e59-8839-4979-9d94-056757be28c8",
        "colab": {
          "base_uri": "https://localhost:8080/",
          "height": 34
        }
      },
      "source": [
        "from sklearn.metrics import mean_absolute_error\n",
        "predictions = my_model.predict(X_test)\n",
        "\n",
        "print(\"Mean Absolute Error: \" + str(mean_absolute_error(predictions, y_test)))"
      ],
      "execution_count": 0,
      "outputs": [
        {
          "output_type": "stream",
          "text": [
            "Mean Absolute Error: 9.662770768142726\n"
          ],
          "name": "stdout"
        }
      ]
    },
    {
      "cell_type": "code",
      "metadata": {
        "id": "SPaZI2FpHwyI",
        "colab_type": "code",
        "outputId": "ee7d0679-3ba9-4a37-971b-7e8c9d7da01d",
        "colab": {
          "base_uri": "https://localhost:8080/",
          "height": 224
        }
      },
      "source": [
        "model_full=XGBRegressor(learning_rate=0.009,n_estimators=1500,subsample=1,max_depth=7,cosample_bytree=1,gamma=1)\n",
        "model_full.fit(X,y)\n",
        "x_test=x_test[fe]\n",
        "x.head()\n",
        "x_test.head()"
      ],
      "execution_count": 0,
      "outputs": [
        {
          "output_type": "stream",
          "text": [
            "[21:15:23] WARNING: /workspace/src/objective/regression_obj.cu:152: reg:linear is now deprecated in favor of reg:squarederror.\n"
          ],
          "name": "stdout"
        },
        {
          "output_type": "execute_result",
          "data": {
            "text/html": [
              "<div>\n",
              "<style scoped>\n",
              "    .dataframe tbody tr th:only-of-type {\n",
              "        vertical-align: middle;\n",
              "    }\n",
              "\n",
              "    .dataframe tbody tr th {\n",
              "        vertical-align: top;\n",
              "    }\n",
              "\n",
              "    .dataframe thead th {\n",
              "        text-align: right;\n",
              "    }\n",
              "</style>\n",
              "<table border=\"1\" class=\"dataframe\">\n",
              "  <thead>\n",
              "    <tr style=\"text-align: right;\">\n",
              "      <th></th>\n",
              "      <th>year</th>\n",
              "      <th>weekofyear</th>\n",
              "      <th>station_avg_temp_c</th>\n",
              "      <th>reanalysis_dew_point_temp_k</th>\n",
              "      <th>ndvi_ne</th>\n",
              "      <th>reanalysis_tdtr_k</th>\n",
              "    </tr>\n",
              "  </thead>\n",
              "  <tbody>\n",
              "    <tr>\n",
              "      <th>0</th>\n",
              "      <td>2008</td>\n",
              "      <td>18</td>\n",
              "      <td>26.528571</td>\n",
              "      <td>294.527143</td>\n",
              "      <td>-0.0189</td>\n",
              "      <td>3.128571</td>\n",
              "    </tr>\n",
              "    <tr>\n",
              "      <th>1</th>\n",
              "      <td>2008</td>\n",
              "      <td>19</td>\n",
              "      <td>26.071429</td>\n",
              "      <td>294.395714</td>\n",
              "      <td>-0.0180</td>\n",
              "      <td>2.571429</td>\n",
              "    </tr>\n",
              "    <tr>\n",
              "      <th>2</th>\n",
              "      <td>2008</td>\n",
              "      <td>20</td>\n",
              "      <td>27.928571</td>\n",
              "      <td>295.308571</td>\n",
              "      <td>-0.0015</td>\n",
              "      <td>4.428571</td>\n",
              "    </tr>\n",
              "    <tr>\n",
              "      <th>3</th>\n",
              "      <td>2008</td>\n",
              "      <td>21</td>\n",
              "      <td>28.057143</td>\n",
              "      <td>294.402857</td>\n",
              "      <td>-0.0015</td>\n",
              "      <td>4.342857</td>\n",
              "    </tr>\n",
              "    <tr>\n",
              "      <th>4</th>\n",
              "      <td>2008</td>\n",
              "      <td>22</td>\n",
              "      <td>27.614286</td>\n",
              "      <td>294.760000</td>\n",
              "      <td>0.0568</td>\n",
              "      <td>3.542857</td>\n",
              "    </tr>\n",
              "  </tbody>\n",
              "</table>\n",
              "</div>"
            ],
            "text/plain": [
              "   year  weekofyear  ...  ndvi_ne  reanalysis_tdtr_k\n",
              "0  2008          18  ...  -0.0189           3.128571\n",
              "1  2008          19  ...  -0.0180           2.571429\n",
              "2  2008          20  ...  -0.0015           4.428571\n",
              "3  2008          21  ...  -0.0015           4.342857\n",
              "4  2008          22  ...   0.0568           3.542857\n",
              "\n",
              "[5 rows x 6 columns]"
            ]
          },
          "metadata": {
            "tags": []
          },
          "execution_count": 591
        }
      ]
    },
    {
      "cell_type": "code",
      "metadata": {
        "id": "hJCBWmVeH5c7",
        "colab_type": "code",
        "colab": {}
      },
      "source": [
        "#x_test['city1']=np.where(x_test['city']=='sj',1,-1)\n",
        "#x_test.drop(columns='city',inplace=True)"
      ],
      "execution_count": 0,
      "outputs": []
    },
    {
      "cell_type": "code",
      "metadata": {
        "id": "g2aTAoB0H6vN",
        "colab_type": "code",
        "colab": {}
      },
      "source": [
        "test_pred=model_full.predict(x_test).astype(int)\n",
        "submission=pd.read_csv('https://s3.amazonaws.com/drivendata/data/44/public/submission_format.csv',index_col=[0,1,2])\n",
        "submission.total_cases=test_pred\n",
        "submission.to_csv('value.csv')"
      ],
      "execution_count": 0,
      "outputs": []
    },
    {
      "cell_type": "code",
      "metadata": {
        "id": "pZO9SNPwXrLR",
        "colab_type": "code",
        "outputId": "4a27c4bb-089b-42da-ebd7-1905f996d425",
        "colab": {
          "base_uri": "https://localhost:8080/",
          "height": 228
        }
      },
      "source": [
        "from sklearn.ensemble import RandomForestRegressor\n",
        "rf=RandomForestRegressor()\n",
        "rf.fit(X_train,y_train)\n"
      ],
      "execution_count": 0,
      "outputs": [
        {
          "output_type": "stream",
          "text": [
            "/usr/local/lib/python3.6/dist-packages/sklearn/ensemble/forest.py:245: FutureWarning: The default value of n_estimators will change from 10 in version 0.20 to 100 in 0.22.\n",
            "  \"10 in version 0.20 to 100 in 0.22.\", FutureWarning)\n",
            "/usr/local/lib/python3.6/dist-packages/ipykernel_launcher.py:3: DataConversionWarning: A column-vector y was passed when a 1d array was expected. Please change the shape of y to (n_samples,), for example using ravel().\n",
            "  This is separate from the ipykernel package so we can avoid doing imports until\n"
          ],
          "name": "stderr"
        },
        {
          "output_type": "execute_result",
          "data": {
            "text/plain": [
              "RandomForestRegressor(bootstrap=True, criterion='mse', max_depth=None,\n",
              "                      max_features='auto', max_leaf_nodes=None,\n",
              "                      min_impurity_decrease=0.0, min_impurity_split=None,\n",
              "                      min_samples_leaf=1, min_samples_split=2,\n",
              "                      min_weight_fraction_leaf=0.0, n_estimators=10,\n",
              "                      n_jobs=None, oob_score=False, random_state=None,\n",
              "                      verbose=0, warm_start=False)"
            ]
          },
          "metadata": {
            "tags": []
          },
          "execution_count": 594
        }
      ]
    },
    {
      "cell_type": "code",
      "metadata": {
        "id": "WnFcjlYtCbUE",
        "colab_type": "code",
        "outputId": "8edb2773-4bd7-4a0e-8564-ec99bc457712",
        "colab": {
          "base_uri": "https://localhost:8080/",
          "height": 34
        }
      },
      "source": [
        "from sklearn.metrics import mean_absolute_error\n",
        "predictions = rf.predict(X_test)\n",
        "print(\"Mean Absolute Error: \" + str(mean_absolute_error(predictions, y_test)))"
      ],
      "execution_count": 0,
      "outputs": [
        {
          "output_type": "stream",
          "text": [
            "Mean Absolute Error: 10.837328767123287\n"
          ],
          "name": "stdout"
        }
      ]
    }
  ]
}